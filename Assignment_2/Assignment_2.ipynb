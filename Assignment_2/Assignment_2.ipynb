{
 "cells": [
  {
   "cell_type": "markdown",
   "metadata": {
    "deletable": false,
    "editable": false,
    "nbgrader": {
     "cell_type": "markdown",
     "checksum": "35260a7ff7aa4ce0ef8edcd6391438c2",
     "grade": false,
     "grade_id": "cell-4e065765673b8e8e",
     "locked": true,
     "schema_version": 3,
     "solution": false,
     "task": false
    }
   },
   "source": [
    "# Assignment 2\n",
    "\n",
    "**Note:**\n",
    "1. This assignment is designed to assess your comprehension of the course material.\n",
    "2. There are no specific assertion cases provided; you will be evaluated based on the results and correct approach to the questions.\n",
    " - For numeric arrays or DataFrames, print the full array if it’s small (e.g., NumPy arrays of shape < 10x10).\n",
    " - For larger outputs (e.g., DataFrames with many rows), print the first 5–10 rows using .head() or array slicing.\n",
    "3. Submit the assignment on DataHub.\n",
    "4. Plagiarism and AI similarity checks will be conducted."
   ]
  },
  {
   "cell_type": "markdown",
   "metadata": {
    "deletable": false,
    "editable": false,
    "nbgrader": {
     "cell_type": "markdown",
     "checksum": "e90c1e32bf036a75fbd0a2cc22baa5c6",
     "grade": false,
     "grade_id": "cell-4d8861a5169eda5b",
     "locked": true,
     "schema_version": 3,
     "solution": false,
     "task": false
    }
   },
   "source": [
    "## Exercise 1: Numpy (20 Points)"
   ]
  },
  {
   "cell_type": "markdown",
   "metadata": {
    "deletable": false,
    "editable": false,
    "nbgrader": {
     "cell_type": "markdown",
     "checksum": "88e5766a1d4a759fb9f1c2190b42f830",
     "grade": false,
     "grade_id": "cell-44900f211948dcef",
     "locked": true,
     "schema_version": 3,
     "solution": false,
     "task": false
    }
   },
   "source": [
    "### Task 1: (3 points)\n",
    "\n",
    "Utilize NumPy np.arange and reshape functions to create a 2D array A with the following shape:\n",
    "\n",
    "A = [[1 2 3], [4 5 6], [7 8 9], [10 11 12]]"
   ]
  },
  {
   "cell_type": "code",
   "execution_count": 4,
   "metadata": {
    "deletable": false,
    "nbgrader": {
     "cell_type": "code",
     "checksum": "acf5e150a59064596451fde7b8a70243",
     "grade": true,
     "grade_id": "cell-8ef663f2b2c3b74f",
     "locked": false,
     "points": 3,
     "schema_version": 3,
     "solution": true,
     "task": false
    }
   },
   "outputs": [
    {
     "data": {
      "text/plain": [
       "array([[ 1,  2,  3],\n",
       "       [ 4,  5,  6],\n",
       "       [ 7,  8,  9],\n",
       "       [10, 11, 12]])"
      ]
     },
     "execution_count": 4,
     "metadata": {},
     "output_type": "execute_result"
    }
   ],
   "source": [
    "# YOUR CODE HERE\n",
    "import numpy as np\n",
    "\n",
    "A = np.arange(1, 13).reshape(4, 3)\n",
    "A"
   ]
  },
  {
   "cell_type": "markdown",
   "metadata": {
    "deletable": false,
    "editable": false,
    "nbgrader": {
     "cell_type": "markdown",
     "checksum": "a05f06f3e6032a046fa8364a4276f08a",
     "grade": false,
     "grade_id": "cell-dbd72b3fd5418ad9",
     "locked": true,
     "schema_version": 3,
     "solution": false,
     "task": false
    }
   },
   "source": [
    "### Task 2: (2 points)\n",
    "\n",
    " Create a 1D NumPy array B using the np.array function with the following values: \n",
    " \n",
    " B = [1 2 3 4]\n"
   ]
  },
  {
   "cell_type": "code",
   "execution_count": 3,
   "metadata": {
    "deletable": false,
    "nbgrader": {
     "cell_type": "code",
     "checksum": "de1a9bf91672923f6ee5951e2184a305",
     "grade": true,
     "grade_id": "cell-2d7e893946f2c8d4",
     "locked": false,
     "points": 2,
     "schema_version": 3,
     "solution": true,
     "task": false
    }
   },
   "outputs": [
    {
     "data": {
      "text/plain": [
       "array([1, 2, 3, 4])"
      ]
     },
     "execution_count": 3,
     "metadata": {},
     "output_type": "execute_result"
    }
   ],
   "source": [
    "# YOUR CODE HERE\n",
    "B = np.arange(1, 5)\n",
    "B"
   ]
  },
  {
   "cell_type": "markdown",
   "metadata": {
    "deletable": false,
    "editable": false,
    "nbgrader": {
     "cell_type": "markdown",
     "checksum": "df7fdfa6289fe6236a2c2f59969c424a",
     "grade": false,
     "grade_id": "cell-29f1b13b06d0a0d1",
     "locked": true,
     "schema_version": 3,
     "solution": false,
     "task": false
    }
   },
   "source": [
    "### Task 3: (5 points)\n",
    "\n",
    "Utilize broadcasting in NumPy to add the 1D array B to the 2D array A, resulting in a final 2D array C. The broadcasting should be designed to add B to each row of A element-wise. Hint: How can you make the array B compatible for the broadcasting operation?"
   ]
  },
  {
   "cell_type": "code",
   "execution_count": 6,
   "metadata": {
    "deletable": false,
    "nbgrader": {
     "cell_type": "code",
     "checksum": "62e60e230f0326f1c22a235613938248",
     "grade": true,
     "grade_id": "cell-8771eff7ae34283e",
     "locked": false,
     "points": 5,
     "schema_version": 3,
     "solution": true,
     "task": false
    }
   },
   "outputs": [
    {
     "data": {
      "text/plain": [
       "array([[ 2,  3,  4],\n",
       "       [ 6,  7,  8],\n",
       "       [10, 11, 12],\n",
       "       [14, 15, 16]])"
      ]
     },
     "execution_count": 6,
     "metadata": {},
     "output_type": "execute_result"
    }
   ],
   "source": [
    "# YOUR CODE HERE\n",
    "C = A + B.reshape(4, 1)\n",
    "C"
   ]
  },
  {
   "cell_type": "markdown",
   "metadata": {
    "deletable": false,
    "editable": false,
    "nbgrader": {
     "cell_type": "markdown",
     "checksum": "5b37908a987ed85961257aa41324299e",
     "grade": false,
     "grade_id": "cell-70d6ff64d879fa7c",
     "locked": true,
     "schema_version": 3,
     "solution": false,
     "task": false
    }
   },
   "source": [
    "### Task 4: (10 points)\n",
    "\n",
    "After the broadcasting operation, perform the following transformations on the final array C and print the values:\n",
    "\n",
    "a. Calculate and print the sum of all elements in C."
   ]
  },
  {
   "cell_type": "code",
   "execution_count": 7,
   "metadata": {
    "deletable": false,
    "nbgrader": {
     "cell_type": "code",
     "checksum": "e2c5f94ce51d800ccff51cc05a5cbe5c",
     "grade": true,
     "grade_id": "cell-71846195bd14c641",
     "locked": false,
     "points": 3,
     "schema_version": 3,
     "solution": true,
     "task": false
    }
   },
   "outputs": [
    {
     "data": {
      "text/plain": [
       "np.int64(108)"
      ]
     },
     "execution_count": 7,
     "metadata": {},
     "output_type": "execute_result"
    }
   ],
   "source": [
    "# YOUR CODE HERE\n",
    "\n",
    "sum_C = np.sum(C)\n",
    "sum_C"
   ]
  },
  {
   "cell_type": "markdown",
   "metadata": {
    "deletable": false,
    "editable": false,
    "nbgrader": {
     "cell_type": "markdown",
     "checksum": "e190db4903cd956697e85c2e203a2c26",
     "grade": false,
     "grade_id": "cell-bcf9db74cd19d751",
     "locked": true,
     "schema_version": 3,
     "solution": false,
     "task": false
    }
   },
   "source": [
    "b. Calculate and print the mean of each column in C."
   ]
  },
  {
   "cell_type": "code",
   "execution_count": 8,
   "metadata": {
    "deletable": false,
    "nbgrader": {
     "cell_type": "code",
     "checksum": "a56c7a8a4996f1d0e4e2f85eb5c5b32f",
     "grade": true,
     "grade_id": "cell-bca9b7e9041041f8",
     "locked": false,
     "points": 4,
     "schema_version": 3,
     "solution": true,
     "task": false
    }
   },
   "outputs": [
    {
     "data": {
      "text/plain": [
       "array([ 8.,  9., 10.])"
      ]
     },
     "execution_count": 8,
     "metadata": {},
     "output_type": "execute_result"
    }
   ],
   "source": [
    "# YOUR CODE HERE\n",
    "col_mean_C = np.mean(C, axis=0)\n",
    "col_mean_C"
   ]
  },
  {
   "cell_type": "markdown",
   "metadata": {
    "deletable": false,
    "editable": false,
    "nbgrader": {
     "cell_type": "markdown",
     "checksum": "b6b3d94647e4f9f32997c3e1b9936095",
     "grade": false,
     "grade_id": "cell-a53fad93d9b2f0bc",
     "locked": true,
     "schema_version": 3,
     "solution": false,
     "task": false
    }
   },
   "source": [
    "c. Find the maximum value in each row of C and print them."
   ]
  },
  {
   "cell_type": "code",
   "execution_count": 9,
   "metadata": {
    "deletable": false,
    "nbgrader": {
     "cell_type": "code",
     "checksum": "8b231d68f3b7cda51aba2fcba1939076",
     "grade": true,
     "grade_id": "cell-7dbb66838135210a",
     "locked": false,
     "points": 3,
     "schema_version": 3,
     "solution": true,
     "task": false
    }
   },
   "outputs": [
    {
     "data": {
      "text/plain": [
       "array([14, 15, 16])"
      ]
     },
     "execution_count": 9,
     "metadata": {},
     "output_type": "execute_result"
    }
   ],
   "source": [
    "# YOUR CODE HERE\n",
    "col_max_C = np.max(C, axis=0)\n",
    "col_max_C"
   ]
  },
  {
   "cell_type": "markdown",
   "metadata": {
    "deletable": false,
    "editable": false,
    "nbgrader": {
     "cell_type": "markdown",
     "checksum": "997689e38b1c863da5b447d660040d9a",
     "grade": false,
     "grade_id": "cell-9f4dc1893d18b975",
     "locked": true,
     "schema_version": 3,
     "solution": false,
     "task": false
    }
   },
   "source": [
    "## Exercise 2: Trapezoidal Integration (20 Points)\n",
    " "
   ]
  },
  {
   "cell_type": "markdown",
   "metadata": {
    "deletable": false,
    "editable": false,
    "nbgrader": {
     "cell_type": "markdown",
     "checksum": "511722cfb5a693c9066ba315609d9611",
     "grade": false,
     "grade_id": "cell-5b8794b540d83f58",
     "locked": true,
     "schema_version": 3,
     "solution": false,
     "task": false
    }
   },
   "source": [
    "In this exercise, you are tasked with implementing the simple trapezoidal rule formula for numerical integration. The goal is to compute the definite integral: $$ \\int_a^b f(x) \\, dx $$\n",
    " \n",
    " We can partition the integration interval \\([a, b]\\) into smaller subintervals. We then approximate the area under the curve for each subinterval by calculating the area of the trapezoid formed by linearly interpolating between the two function values at each end of the subinterval.\n",
    " \n",
    " For a pre-computed \\( y \\) array (where \\( y = f(x) \\) at discrete samples), the trapezoidal rule equation is given by:\n",
    " \n",
    " $$ \\int_a^b f(x) \\, dx \\approx \\frac{1}{2} \\sum_{i=1}^{n} (x_i - x_{i-1})(y_i + y_{i-1}) $$"
   ]
  },
  {
   "cell_type": "markdown",
   "metadata": {
    "deletable": false,
    "editable": false,
    "nbgrader": {
     "cell_type": "markdown",
     "checksum": "6c02e739b49ec17f2365f3900f690544",
     "grade": false,
     "grade_id": "cell-7e65667400e0a6b1",
     "locked": true,
     "schema_version": 3,
     "solution": false,
     "task": false
    }
   },
   "source": [
    " ### Task 1: (5 points)\n",
    " \n",
    " Create two arrays 𝑥 and 𝑦, where 𝑥 is a linearly spaced array in the interval [0, 3] of length 11 ,\n",
    " and 𝑦 represents the function 𝑓(𝑥) = 𝑥^2\n",
    " sampled at 𝑥."
   ]
  },
  {
   "cell_type": "code",
   "execution_count": 11,
   "metadata": {
    "deletable": false,
    "nbgrader": {
     "cell_type": "code",
     "checksum": "02d07451dbe17bf116d5b5647b5b7e9a",
     "grade": true,
     "grade_id": "cell-8c63277e0bf9eab0",
     "locked": false,
     "points": 5,
     "schema_version": 3,
     "solution": true,
     "task": false
    }
   },
   "outputs": [
    {
     "data": {
      "text/plain": [
       "(array([0. , 0.3, 0.6, 0.9, 1.2, 1.5, 1.8, 2.1, 2.4, 2.7, 3. ]),\n",
       " array([0.  , 0.09, 0.36, 0.81, 1.44, 2.25, 3.24, 4.41, 5.76, 7.29, 9.  ]))"
      ]
     },
     "execution_count": 11,
     "metadata": {},
     "output_type": "execute_result"
    }
   ],
   "source": [
    "# YOUR CODE HERE\n",
    "x = np.linspace(0, 3, 11)\n",
    "y = x**2\n",
    "\n",
    "x, y"
   ]
  },
  {
   "cell_type": "markdown",
   "metadata": {
    "deletable": false,
    "editable": false,
    "nbgrader": {
     "cell_type": "markdown",
     "checksum": "edfa885b0a33db1eabd155cbdc8cd880",
     "grade": false,
     "grade_id": "cell-74f79a32d0adb3cc",
     "locked": true,
     "schema_version": 3,
     "solution": false,
     "task": false
    }
   },
   "source": [
    " ### Task 2: (5 points)\n",
    " \n",
    " Use indexing (not a for loop) to find the 10 values representing \\( y_i + y_{i-1} \\) for i between 1 and 11.\n",
    " \n",
    " ### Hint:\n",
    " - What indexing would be needed to get all but the last element of the 1D array \\( y \\)?\n",
    " - Similarly, what indexing would be needed to get all but the first element of the 1D array \\( y \\)?\n",
    " "
   ]
  },
  {
   "cell_type": "code",
   "execution_count": 13,
   "metadata": {
    "deletable": false,
    "nbgrader": {
     "cell_type": "code",
     "checksum": "ec94eafeb8ca8d7b6116169a8d6d4114",
     "grade": true,
     "grade_id": "cell-273f2f6af2a181da",
     "locked": false,
     "points": 5,
     "schema_version": 3,
     "solution": true,
     "task": false
    }
   },
   "outputs": [
    {
     "data": {
      "text/plain": [
       "array([0.09, 0.36, 0.81, 1.44, 2.25, 3.24, 4.41, 5.76, 7.29, 9.  ])"
      ]
     },
     "execution_count": 13,
     "metadata": {},
     "output_type": "execute_result"
    }
   ],
   "source": [
    "# YOUR CODE HERE\n",
    "y[1:11]"
   ]
  },
  {
   "cell_type": "markdown",
   "metadata": {
    "deletable": false,
    "editable": false,
    "nbgrader": {
     "cell_type": "markdown",
     "checksum": "0559e4007aff3d9f48c58bc99ebc1098",
     "grade": false,
     "grade_id": "cell-57f5ab77c0885bf9",
     "locked": true,
     "schema_version": 3,
     "solution": false,
     "task": false
    }
   },
   "source": [
    "### Task 3: (5 points)\n",
    "\n",
    "Write a function trapz(𝑥, 𝑦), that applies the trapezoid formula to pre-computed values, where 𝑥 and 𝑦 are 1 − 𝑑 arrays. The function should not use a for loop."
   ]
  },
  {
   "cell_type": "code",
   "execution_count": 15,
   "metadata": {
    "deletable": false,
    "nbgrader": {
     "cell_type": "code",
     "checksum": "f911e4457dd2fba85e1eff09af4a3fd5",
     "grade": true,
     "grade_id": "cell-5796caeb5dbf4af4",
     "locked": false,
     "points": 5,
     "schema_version": 3,
     "solution": true,
     "task": false
    }
   },
   "outputs": [],
   "source": [
    "# YOUR CODE HERE\n",
    "def trapz(x, y):\n",
    "    x = np.asarray(x)\n",
    "    y = np.asarray(y)\n",
    "    return np.sum((y[:-1] + y[1:]) * np.diff(x) / 2.0)\n",
    "    "
   ]
  },
  {
   "cell_type": "markdown",
   "metadata": {
    "deletable": false,
    "editable": false,
    "nbgrader": {
     "cell_type": "markdown",
     "checksum": "840c413308e7a306b372d61fddd18b29",
     "grade": false,
     "grade_id": "cell-c768ac8a749fc687",
     "locked": true,
     "schema_version": 3,
     "solution": false,
     "task": false
    }
   },
   "source": [
    "### Task 4: (3 points)\n",
    "\n",
    "Verify that your function is correct by using the arrays created in Task 1 as input to the `trapz` function. Your answer should be a close approximation of:\n",
    "\n",
    "$$ \\int_0^3 x^2 \\, dx $$ \n",
    "which equals 9.\n"
   ]
  },
  {
   "cell_type": "code",
   "execution_count": 17,
   "metadata": {
    "deletable": false,
    "nbgrader": {
     "cell_type": "code",
     "checksum": "54d4cb097b7fec0446f0ca263ef8b7ee",
     "grade": true,
     "grade_id": "cell-f30ec69caff3ca4e",
     "locked": false,
     "points": 3,
     "schema_version": 3,
     "solution": true,
     "task": false
    }
   },
   "outputs": [
    {
     "data": {
      "text/plain": [
       "np.float64(9.045000000000002)"
      ]
     },
     "execution_count": 17,
     "metadata": {},
     "output_type": "execute_result"
    }
   ],
   "source": [
    "# YOUR CODE HERE\n",
    "trapz(x, y)"
   ]
  },
  {
   "cell_type": "markdown",
   "metadata": {
    "deletable": false,
    "editable": false,
    "nbgrader": {
     "cell_type": "markdown",
     "checksum": "41feb603f2c97de69eebbc7b482ee049",
     "grade": false,
     "grade_id": "cell-8e4be1805b774fe9",
     "locked": true,
     "schema_version": 3,
     "solution": false,
     "task": false
    }
   },
   "source": [
    "### Task 5: (2 points)\n",
    "\n",
    "Numpy and Scipy provide many common integration schemes. Check the documentation for NumPy’s own version of the trapezoidal integration scheme (https://numpy.org/doc/1.25/reference/generated/numpy.trapz.html) and check its result with your own."
   ]
  },
  {
   "cell_type": "code",
   "execution_count": 20,
   "metadata": {
    "deletable": false,
    "nbgrader": {
     "cell_type": "code",
     "checksum": "662509242cd726338b00a4cfa63cfd48",
     "grade": true,
     "grade_id": "cell-eca6ac7373b8ef34",
     "locked": false,
     "points": 2,
     "schema_version": 3,
     "solution": true,
     "task": false
    }
   },
   "outputs": [
    {
     "data": {
      "text/plain": [
       "(np.float64(9.045000000000002), np.float64(9.045000000000002))"
      ]
     },
     "execution_count": 20,
     "metadata": {},
     "output_type": "execute_result"
    }
   ],
   "source": [
    "# YOUR CODE HERE\n",
    "import scipy.integrate as spi\n",
    "\n",
    "np.trapezoid(y, x), spi.trapezoid(y, x)"
   ]
  },
  {
   "cell_type": "markdown",
   "metadata": {
    "deletable": false,
    "editable": false,
    "nbgrader": {
     "cell_type": "markdown",
     "checksum": "c18892b0eca23c2f7aa8a6b9204ad1f7",
     "grade": false,
     "grade_id": "cell-c8e2a4abe0abed04",
     "locked": true,
     "schema_version": 3,
     "solution": false,
     "task": false
    }
   },
   "source": [
    "## Exercise 3: Airbnb Data Analysis (35 Points)"
   ]
  },
  {
   "cell_type": "markdown",
   "metadata": {
    "deletable": false,
    "editable": false,
    "nbgrader": {
     "cell_type": "markdown",
     "checksum": "f8b37901f8cfc1b412553c6a377a041c",
     "grade": false,
     "grade_id": "cell-8bf08548e130f2bf",
     "locked": true,
     "schema_version": 3,
     "solution": false,
     "task": false
    }
   },
   "source": [
    "Note: Ensure you print results wherever required (for grading purposes) but limit the\n",
    "output to the top 5 records for larger data. This helps manage results for grading.\n",
    "\n",
    "### Task 1: Loading and Exploring the Dataset (5 Points)\n",
    "\n",
    "The dataset required for this exercise is already included with your assignment files.\n",
    "\n",
    "The CSV file is located at: \"source/Assignment_2/Airbnb_listings.csv\"\n",
    "\n",
    "Do the following:"
   ]
  },
  {
   "cell_type": "markdown",
   "metadata": {
    "deletable": false,
    "editable": false,
    "nbgrader": {
     "cell_type": "markdown",
     "checksum": "4198ecd31f3472d2afbbe4e356f84ee5",
     "grade": false,
     "grade_id": "cell-4071a87e3d0085cb",
     "locked": true,
     "schema_version": 3,
     "solution": false,
     "task": false
    }
   },
   "source": [
    "1. Load the dataset from the Airbnb_listings.csv file and Print the top 5 records."
   ]
  },
  {
   "cell_type": "code",
   "execution_count": null,
   "metadata": {
    "deletable": false,
    "nbgrader": {
     "cell_type": "code",
     "checksum": "35c4c83a36ecb3dfd50b0535574e3f9b",
     "grade": true,
     "grade_id": "cell-192f4b4497cd0990",
     "locked": false,
     "points": 1,
     "schema_version": 3,
     "solution": true,
     "task": false
    }
   },
   "outputs": [
    {
     "name": "stderr",
     "output_type": "stream",
     "text": [
      "C:\\Users\\TangyKiwi\\AppData\\Local\\Temp\\ipykernel_11916\\2793184514.py:4: DtypeWarning: Columns (25) have mixed types. Specify dtype option on import or set low_memory=False.\n",
      "  df = pd.read_csv(\"Airbnb_listings.csv\")\n"
     ]
    },
    {
     "data": {
      "text/html": [
       "<div>\n",
       "<style scoped>\n",
       "    .dataframe tbody tr th:only-of-type {\n",
       "        vertical-align: middle;\n",
       "    }\n",
       "\n",
       "    .dataframe tbody tr th {\n",
       "        vertical-align: top;\n",
       "    }\n",
       "\n",
       "    .dataframe thead th {\n",
       "        text-align: right;\n",
       "    }\n",
       "</style>\n",
       "<table border=\"1\" class=\"dataframe\">\n",
       "  <thead>\n",
       "    <tr style=\"text-align: right;\">\n",
       "      <th></th>\n",
       "      <th>id</th>\n",
       "      <th>NAME</th>\n",
       "      <th>host id</th>\n",
       "      <th>host_identity_verified</th>\n",
       "      <th>host name</th>\n",
       "      <th>neighbourhood group</th>\n",
       "      <th>neighbourhood</th>\n",
       "      <th>lat</th>\n",
       "      <th>long</th>\n",
       "      <th>country</th>\n",
       "      <th>country code</th>\n",
       "      <th>instant_bookable</th>\n",
       "      <th>cancellation_policy</th>\n",
       "      <th>room type</th>\n",
       "      <th>Construction year</th>\n",
       "      <th>price</th>\n",
       "      <th>service fee</th>\n",
       "      <th>minimum nights</th>\n",
       "      <th>number of reviews</th>\n",
       "      <th>last review</th>\n",
       "      <th>reviews per month</th>\n",
       "      <th>review rate number</th>\n",
       "      <th>calculated host listings count</th>\n",
       "      <th>availability 365</th>\n",
       "      <th>house_rules</th>\n",
       "      <th>license</th>\n",
       "    </tr>\n",
       "  </thead>\n",
       "  <tbody>\n",
       "    <tr>\n",
       "      <th>0</th>\n",
       "      <td>1001254</td>\n",
       "      <td>Clean &amp; quiet apt home by the park</td>\n",
       "      <td>80014485718</td>\n",
       "      <td>unconfirmed</td>\n",
       "      <td>Madaline</td>\n",
       "      <td>Brooklyn</td>\n",
       "      <td>Kensington</td>\n",
       "      <td>40.64749</td>\n",
       "      <td>-73.97237</td>\n",
       "      <td>United States</td>\n",
       "      <td>US</td>\n",
       "      <td>False</td>\n",
       "      <td>strict</td>\n",
       "      <td>Private room</td>\n",
       "      <td>2020.0</td>\n",
       "      <td>$966</td>\n",
       "      <td>$193</td>\n",
       "      <td>10.0</td>\n",
       "      <td>9.0</td>\n",
       "      <td>10/19/2021</td>\n",
       "      <td>0.21</td>\n",
       "      <td>4.0</td>\n",
       "      <td>6.0</td>\n",
       "      <td>286.0</td>\n",
       "      <td>Clean up and treat the home the way you'd like...</td>\n",
       "      <td>NaN</td>\n",
       "    </tr>\n",
       "    <tr>\n",
       "      <th>1</th>\n",
       "      <td>1002102</td>\n",
       "      <td>Skylit Midtown Castle</td>\n",
       "      <td>52335172823</td>\n",
       "      <td>verified</td>\n",
       "      <td>Jenna</td>\n",
       "      <td>Manhattan</td>\n",
       "      <td>Midtown</td>\n",
       "      <td>40.75362</td>\n",
       "      <td>-73.98377</td>\n",
       "      <td>United States</td>\n",
       "      <td>US</td>\n",
       "      <td>False</td>\n",
       "      <td>moderate</td>\n",
       "      <td>Entire home/apt</td>\n",
       "      <td>2007.0</td>\n",
       "      <td>$142</td>\n",
       "      <td>$28</td>\n",
       "      <td>30.0</td>\n",
       "      <td>45.0</td>\n",
       "      <td>5/21/2022</td>\n",
       "      <td>0.38</td>\n",
       "      <td>4.0</td>\n",
       "      <td>2.0</td>\n",
       "      <td>228.0</td>\n",
       "      <td>Pet friendly but please confirm with me if the...</td>\n",
       "      <td>NaN</td>\n",
       "    </tr>\n",
       "    <tr>\n",
       "      <th>2</th>\n",
       "      <td>1002403</td>\n",
       "      <td>THE VILLAGE OF HARLEM....NEW YORK !</td>\n",
       "      <td>78829239556</td>\n",
       "      <td>NaN</td>\n",
       "      <td>Elise</td>\n",
       "      <td>Manhattan</td>\n",
       "      <td>Harlem</td>\n",
       "      <td>40.80902</td>\n",
       "      <td>-73.94190</td>\n",
       "      <td>United States</td>\n",
       "      <td>US</td>\n",
       "      <td>True</td>\n",
       "      <td>flexible</td>\n",
       "      <td>Private room</td>\n",
       "      <td>2005.0</td>\n",
       "      <td>$620</td>\n",
       "      <td>$124</td>\n",
       "      <td>3.0</td>\n",
       "      <td>0.0</td>\n",
       "      <td>NaN</td>\n",
       "      <td>NaN</td>\n",
       "      <td>5.0</td>\n",
       "      <td>1.0</td>\n",
       "      <td>352.0</td>\n",
       "      <td>I encourage you to use my kitchen, cooking and...</td>\n",
       "      <td>NaN</td>\n",
       "    </tr>\n",
       "    <tr>\n",
       "      <th>3</th>\n",
       "      <td>1002755</td>\n",
       "      <td>NaN</td>\n",
       "      <td>85098326012</td>\n",
       "      <td>unconfirmed</td>\n",
       "      <td>Garry</td>\n",
       "      <td>Brooklyn</td>\n",
       "      <td>Clinton Hill</td>\n",
       "      <td>40.68514</td>\n",
       "      <td>-73.95976</td>\n",
       "      <td>United States</td>\n",
       "      <td>US</td>\n",
       "      <td>True</td>\n",
       "      <td>moderate</td>\n",
       "      <td>Entire home/apt</td>\n",
       "      <td>2005.0</td>\n",
       "      <td>$368</td>\n",
       "      <td>$74</td>\n",
       "      <td>30.0</td>\n",
       "      <td>270.0</td>\n",
       "      <td>7/5/2019</td>\n",
       "      <td>4.64</td>\n",
       "      <td>4.0</td>\n",
       "      <td>1.0</td>\n",
       "      <td>322.0</td>\n",
       "      <td>NaN</td>\n",
       "      <td>NaN</td>\n",
       "    </tr>\n",
       "    <tr>\n",
       "      <th>4</th>\n",
       "      <td>1003689</td>\n",
       "      <td>Entire Apt: Spacious Studio/Loft by central park</td>\n",
       "      <td>92037596077</td>\n",
       "      <td>verified</td>\n",
       "      <td>Lyndon</td>\n",
       "      <td>Manhattan</td>\n",
       "      <td>East Harlem</td>\n",
       "      <td>40.79851</td>\n",
       "      <td>-73.94399</td>\n",
       "      <td>United States</td>\n",
       "      <td>US</td>\n",
       "      <td>False</td>\n",
       "      <td>moderate</td>\n",
       "      <td>Entire home/apt</td>\n",
       "      <td>2009.0</td>\n",
       "      <td>$204</td>\n",
       "      <td>$41</td>\n",
       "      <td>10.0</td>\n",
       "      <td>9.0</td>\n",
       "      <td>11/19/2018</td>\n",
       "      <td>0.10</td>\n",
       "      <td>3.0</td>\n",
       "      <td>1.0</td>\n",
       "      <td>289.0</td>\n",
       "      <td>Please no smoking in the house, porch or on th...</td>\n",
       "      <td>NaN</td>\n",
       "    </tr>\n",
       "  </tbody>\n",
       "</table>\n",
       "</div>"
      ],
      "text/plain": [
       "        id                                              NAME      host id  \\\n",
       "0  1001254                Clean & quiet apt home by the park  80014485718   \n",
       "1  1002102                             Skylit Midtown Castle  52335172823   \n",
       "2  1002403               THE VILLAGE OF HARLEM....NEW YORK !  78829239556   \n",
       "3  1002755                                               NaN  85098326012   \n",
       "4  1003689  Entire Apt: Spacious Studio/Loft by central park  92037596077   \n",
       "\n",
       "  host_identity_verified host name neighbourhood group neighbourhood  \\\n",
       "0            unconfirmed  Madaline            Brooklyn    Kensington   \n",
       "1               verified     Jenna           Manhattan       Midtown   \n",
       "2                    NaN     Elise           Manhattan        Harlem   \n",
       "3            unconfirmed     Garry            Brooklyn  Clinton Hill   \n",
       "4               verified    Lyndon           Manhattan   East Harlem   \n",
       "\n",
       "        lat      long        country country code instant_bookable  \\\n",
       "0  40.64749 -73.97237  United States           US            False   \n",
       "1  40.75362 -73.98377  United States           US            False   \n",
       "2  40.80902 -73.94190  United States           US             True   \n",
       "3  40.68514 -73.95976  United States           US             True   \n",
       "4  40.79851 -73.94399  United States           US            False   \n",
       "\n",
       "  cancellation_policy        room type  Construction year  price service fee  \\\n",
       "0              strict     Private room             2020.0  $966        $193    \n",
       "1            moderate  Entire home/apt             2007.0  $142         $28    \n",
       "2            flexible     Private room             2005.0  $620        $124    \n",
       "3            moderate  Entire home/apt             2005.0  $368         $74    \n",
       "4            moderate  Entire home/apt             2009.0  $204         $41    \n",
       "\n",
       "   minimum nights  number of reviews last review  reviews per month  \\\n",
       "0            10.0                9.0  10/19/2021               0.21   \n",
       "1            30.0               45.0   5/21/2022               0.38   \n",
       "2             3.0                0.0         NaN                NaN   \n",
       "3            30.0              270.0    7/5/2019               4.64   \n",
       "4            10.0                9.0  11/19/2018               0.10   \n",
       "\n",
       "   review rate number  calculated host listings count  availability 365  \\\n",
       "0                 4.0                             6.0             286.0   \n",
       "1                 4.0                             2.0             228.0   \n",
       "2                 5.0                             1.0             352.0   \n",
       "3                 4.0                             1.0             322.0   \n",
       "4                 3.0                             1.0             289.0   \n",
       "\n",
       "                                         house_rules license  \n",
       "0  Clean up and treat the home the way you'd like...     NaN  \n",
       "1  Pet friendly but please confirm with me if the...     NaN  \n",
       "2  I encourage you to use my kitchen, cooking and...     NaN  \n",
       "3                                                NaN     NaN  \n",
       "4  Please no smoking in the house, porch or on th...     NaN  "
      ]
     },
     "execution_count": 24,
     "metadata": {},
     "output_type": "execute_result"
    }
   ],
   "source": [
    "# YOUR CODE HERE\n",
    "import pandas as pd\n",
    "pd.set_option(\"display.max_columns\", None)\n",
    "# df = pd.read_csv(\"Airbnb_listings.csv\")\n",
    "df = pd.read_csv(\"source/Assignment_2/Airbnb_listings.csv\")\n",
    "df.head()"
   ]
  },
  {
   "cell_type": "markdown",
   "metadata": {
    "deletable": false,
    "editable": false,
    "nbgrader": {
     "cell_type": "markdown",
     "checksum": "057c4af5e8993b872ad13e88f801f4fb",
     "grade": false,
     "grade_id": "cell-d5e1a904ba26e9d0",
     "locked": true,
     "schema_version": 3,
     "solution": false,
     "task": false
    }
   },
   "source": [
    "2. Print the total number of missing (null) values in the cancellation_policy column."
   ]
  },
  {
   "cell_type": "code",
   "execution_count": 23,
   "metadata": {
    "deletable": false,
    "nbgrader": {
     "cell_type": "code",
     "checksum": "c716a1d25a002825ea9bea2746ba108f",
     "grade": true,
     "grade_id": "cell-6912d3708b5c6563",
     "locked": false,
     "points": 1,
     "schema_version": 3,
     "solution": true,
     "task": false
    }
   },
   "outputs": [
    {
     "data": {
      "text/plain": [
       "np.int64(76)"
      ]
     },
     "execution_count": 23,
     "metadata": {},
     "output_type": "execute_result"
    }
   ],
   "source": [
    "# YOUR CODE HERE\n",
    "df[\"cancellation_policy\"].isnull().sum()"
   ]
  },
  {
   "cell_type": "markdown",
   "metadata": {
    "deletable": false,
    "editable": false,
    "nbgrader": {
     "cell_type": "markdown",
     "checksum": "765433378adc27aba8bf1bf2541f4db3",
     "grade": false,
     "grade_id": "cell-d5de37aa40347eb3",
     "locked": true,
     "schema_version": 3,
     "solution": false,
     "task": false
    }
   },
   "source": [
    "3. Print the number of unique categories in the room type column."
   ]
  },
  {
   "cell_type": "code",
   "execution_count": 25,
   "metadata": {
    "deletable": false,
    "nbgrader": {
     "cell_type": "code",
     "checksum": "c8f1b19b5b952570d3956d4ad69b95be",
     "grade": true,
     "grade_id": "cell-247cca03433490f5",
     "locked": false,
     "points": 1,
     "schema_version": 3,
     "solution": true,
     "task": false
    }
   },
   "outputs": [
    {
     "data": {
      "text/plain": [
       "4"
      ]
     },
     "execution_count": 25,
     "metadata": {},
     "output_type": "execute_result"
    }
   ],
   "source": [
    "# YOUR CODE HERE\n",
    "df[\"room type\"].nunique()"
   ]
  },
  {
   "cell_type": "markdown",
   "metadata": {
    "deletable": false,
    "editable": false,
    "nbgrader": {
     "cell_type": "markdown",
     "checksum": "56a4e556ed280816881e669bc2d2d896",
     "grade": false,
     "grade_id": "cell-1a10df3fccc52e36",
     "locked": true,
     "schema_version": 3,
     "solution": false,
     "task": false
    }
   },
   "source": [
    "4. List the top 5 most frequent host names and display their frequencies."
   ]
  },
  {
   "cell_type": "code",
   "execution_count": null,
   "metadata": {
    "deletable": false,
    "nbgrader": {
     "cell_type": "code",
     "checksum": "47204f4fcf89024facb7577a83ce1508",
     "grade": true,
     "grade_id": "cell-420896a0d5854caf",
     "locked": false,
     "points": 1,
     "schema_version": 3,
     "solution": true,
     "task": false
    }
   },
   "outputs": [
    {
     "data": {
      "text/plain": [
       "host name\n",
       "Michael         881\n",
       "David           764\n",
       "John            581\n",
       "Alex            546\n",
       "Sonder (NYC)    516\n",
       "Name: count, dtype: int64"
      ]
     },
     "execution_count": 26,
     "metadata": {},
     "output_type": "execute_result"
    }
   ],
   "source": [
    "# YOUR CODE HERE\n",
    "# YOUR CODE HERE\n",
    "df[\"host name\"].value_counts().head(5)"
   ]
  },
  {
   "cell_type": "markdown",
   "metadata": {
    "deletable": false,
    "editable": false,
    "nbgrader": {
     "cell_type": "markdown",
     "checksum": "16658c3fca10c88926e63e36eb9567a1",
     "grade": false,
     "grade_id": "cell-62caa0f0c715e3e1",
     "locked": true,
     "schema_version": 3,
     "solution": false,
     "task": false
    }
   },
   "source": [
    "5. Print the number of rows and columns in the dataset."
   ]
  },
  {
   "cell_type": "code",
   "execution_count": 27,
   "metadata": {
    "deletable": false,
    "nbgrader": {
     "cell_type": "code",
     "checksum": "5c31015fa108fd6e0ef7ffee673188cc",
     "grade": true,
     "grade_id": "cell-264a0633dd80ddce",
     "locked": false,
     "points": 1,
     "schema_version": 3,
     "solution": true,
     "task": false
    }
   },
   "outputs": [
    {
     "data": {
      "text/plain": [
       "(102599, 26)"
      ]
     },
     "execution_count": 27,
     "metadata": {},
     "output_type": "execute_result"
    }
   ],
   "source": [
    "# YOUR CODE HERE\n",
    "df.shape"
   ]
  },
  {
   "cell_type": "markdown",
   "metadata": {
    "deletable": false,
    "editable": false,
    "nbgrader": {
     "cell_type": "markdown",
     "checksum": "88ce55faba9cf6ca0cd1296e257c56ef",
     "grade": false,
     "grade_id": "cell-fac49d31f9f8b0e9",
     "locked": true,
     "schema_version": 3,
     "solution": false,
     "task": false
    }
   },
   "source": [
    "### Task 2: Data Preprocessing and Cleaning (5 Points)\n",
    "\n",
    "Write a function preprocess_airbnb_data():\n",
    "1. Convert the price column to numeric. Hint: You need to clean first\n",
    "2. Fills missing values in the price column with the median price. Also, print the median price.\n",
    "3. Removes special characters (anything except alphanumeric) from the host_name column using regular expressions.\n",
    "4. Filters listings where availability_365 is greater than 0 (to exclude unavailable listings).\n",
    "\n",
    "Lastly, call the preprocess_airbnb_data() function on the DataFrame you created in Task 1."
   ]
  },
  {
   "cell_type": "code",
   "execution_count": 38,
   "metadata": {
    "deletable": false,
    "nbgrader": {
     "cell_type": "code",
     "checksum": "582a4e206d878af32e1b13ca8e1f1032",
     "grade": true,
     "grade_id": "cell-4b174422366a32fe",
     "locked": false,
     "points": 5,
     "schema_version": 3,
     "solution": true,
     "task": false
    }
   },
   "outputs": [
    {
     "name": "stdout",
     "output_type": "stream",
     "text": [
      "Median price: 624.0\n"
     ]
    },
    {
     "data": {
      "text/html": [
       "<div>\n",
       "<style scoped>\n",
       "    .dataframe tbody tr th:only-of-type {\n",
       "        vertical-align: middle;\n",
       "    }\n",
       "\n",
       "    .dataframe tbody tr th {\n",
       "        vertical-align: top;\n",
       "    }\n",
       "\n",
       "    .dataframe thead th {\n",
       "        text-align: right;\n",
       "    }\n",
       "</style>\n",
       "<table border=\"1\" class=\"dataframe\">\n",
       "  <thead>\n",
       "    <tr style=\"text-align: right;\">\n",
       "      <th></th>\n",
       "      <th>id</th>\n",
       "      <th>NAME</th>\n",
       "      <th>host id</th>\n",
       "      <th>host_identity_verified</th>\n",
       "      <th>host name</th>\n",
       "      <th>neighbourhood group</th>\n",
       "      <th>neighbourhood</th>\n",
       "      <th>lat</th>\n",
       "      <th>long</th>\n",
       "      <th>country</th>\n",
       "      <th>country code</th>\n",
       "      <th>instant_bookable</th>\n",
       "      <th>cancellation_policy</th>\n",
       "      <th>room type</th>\n",
       "      <th>Construction year</th>\n",
       "      <th>price</th>\n",
       "      <th>service fee</th>\n",
       "      <th>minimum nights</th>\n",
       "      <th>number of reviews</th>\n",
       "      <th>last review</th>\n",
       "      <th>reviews per month</th>\n",
       "      <th>review rate number</th>\n",
       "      <th>calculated host listings count</th>\n",
       "      <th>availability 365</th>\n",
       "      <th>house_rules</th>\n",
       "      <th>license</th>\n",
       "    </tr>\n",
       "  </thead>\n",
       "  <tbody>\n",
       "    <tr>\n",
       "      <th>0</th>\n",
       "      <td>1001254</td>\n",
       "      <td>Clean &amp; quiet apt home by the park</td>\n",
       "      <td>80014485718</td>\n",
       "      <td>unconfirmed</td>\n",
       "      <td>Madaline</td>\n",
       "      <td>Brooklyn</td>\n",
       "      <td>Kensington</td>\n",
       "      <td>40.64749</td>\n",
       "      <td>-73.97237</td>\n",
       "      <td>United States</td>\n",
       "      <td>US</td>\n",
       "      <td>False</td>\n",
       "      <td>strict</td>\n",
       "      <td>Private room</td>\n",
       "      <td>2020.0</td>\n",
       "      <td>966.0</td>\n",
       "      <td>$193</td>\n",
       "      <td>10.0</td>\n",
       "      <td>9.0</td>\n",
       "      <td>10/19/2021</td>\n",
       "      <td>0.21</td>\n",
       "      <td>4.0</td>\n",
       "      <td>6.0</td>\n",
       "      <td>286.0</td>\n",
       "      <td>Clean up and treat the home the way you'd like...</td>\n",
       "      <td>NaN</td>\n",
       "    </tr>\n",
       "    <tr>\n",
       "      <th>1</th>\n",
       "      <td>1002102</td>\n",
       "      <td>Skylit Midtown Castle</td>\n",
       "      <td>52335172823</td>\n",
       "      <td>verified</td>\n",
       "      <td>Jenna</td>\n",
       "      <td>Manhattan</td>\n",
       "      <td>Midtown</td>\n",
       "      <td>40.75362</td>\n",
       "      <td>-73.98377</td>\n",
       "      <td>United States</td>\n",
       "      <td>US</td>\n",
       "      <td>False</td>\n",
       "      <td>moderate</td>\n",
       "      <td>Entire home/apt</td>\n",
       "      <td>2007.0</td>\n",
       "      <td>142.0</td>\n",
       "      <td>$28</td>\n",
       "      <td>30.0</td>\n",
       "      <td>45.0</td>\n",
       "      <td>5/21/2022</td>\n",
       "      <td>0.38</td>\n",
       "      <td>4.0</td>\n",
       "      <td>2.0</td>\n",
       "      <td>228.0</td>\n",
       "      <td>Pet friendly but please confirm with me if the...</td>\n",
       "      <td>NaN</td>\n",
       "    </tr>\n",
       "    <tr>\n",
       "      <th>2</th>\n",
       "      <td>1002403</td>\n",
       "      <td>THE VILLAGE OF HARLEM....NEW YORK !</td>\n",
       "      <td>78829239556</td>\n",
       "      <td>NaN</td>\n",
       "      <td>Elise</td>\n",
       "      <td>Manhattan</td>\n",
       "      <td>Harlem</td>\n",
       "      <td>40.80902</td>\n",
       "      <td>-73.94190</td>\n",
       "      <td>United States</td>\n",
       "      <td>US</td>\n",
       "      <td>True</td>\n",
       "      <td>flexible</td>\n",
       "      <td>Private room</td>\n",
       "      <td>2005.0</td>\n",
       "      <td>620.0</td>\n",
       "      <td>$124</td>\n",
       "      <td>3.0</td>\n",
       "      <td>0.0</td>\n",
       "      <td>NaN</td>\n",
       "      <td>NaN</td>\n",
       "      <td>5.0</td>\n",
       "      <td>1.0</td>\n",
       "      <td>352.0</td>\n",
       "      <td>I encourage you to use my kitchen, cooking and...</td>\n",
       "      <td>NaN</td>\n",
       "    </tr>\n",
       "    <tr>\n",
       "      <th>3</th>\n",
       "      <td>1002755</td>\n",
       "      <td>NaN</td>\n",
       "      <td>85098326012</td>\n",
       "      <td>unconfirmed</td>\n",
       "      <td>Garry</td>\n",
       "      <td>Brooklyn</td>\n",
       "      <td>Clinton Hill</td>\n",
       "      <td>40.68514</td>\n",
       "      <td>-73.95976</td>\n",
       "      <td>United States</td>\n",
       "      <td>US</td>\n",
       "      <td>True</td>\n",
       "      <td>moderate</td>\n",
       "      <td>Entire home/apt</td>\n",
       "      <td>2005.0</td>\n",
       "      <td>368.0</td>\n",
       "      <td>$74</td>\n",
       "      <td>30.0</td>\n",
       "      <td>270.0</td>\n",
       "      <td>7/5/2019</td>\n",
       "      <td>4.64</td>\n",
       "      <td>4.0</td>\n",
       "      <td>1.0</td>\n",
       "      <td>322.0</td>\n",
       "      <td>NaN</td>\n",
       "      <td>NaN</td>\n",
       "    </tr>\n",
       "    <tr>\n",
       "      <th>4</th>\n",
       "      <td>1003689</td>\n",
       "      <td>Entire Apt: Spacious Studio/Loft by central park</td>\n",
       "      <td>92037596077</td>\n",
       "      <td>verified</td>\n",
       "      <td>Lyndon</td>\n",
       "      <td>Manhattan</td>\n",
       "      <td>East Harlem</td>\n",
       "      <td>40.79851</td>\n",
       "      <td>-73.94399</td>\n",
       "      <td>United States</td>\n",
       "      <td>US</td>\n",
       "      <td>False</td>\n",
       "      <td>moderate</td>\n",
       "      <td>Entire home/apt</td>\n",
       "      <td>2009.0</td>\n",
       "      <td>204.0</td>\n",
       "      <td>$41</td>\n",
       "      <td>10.0</td>\n",
       "      <td>9.0</td>\n",
       "      <td>11/19/2018</td>\n",
       "      <td>0.10</td>\n",
       "      <td>3.0</td>\n",
       "      <td>1.0</td>\n",
       "      <td>289.0</td>\n",
       "      <td>Please no smoking in the house, porch or on th...</td>\n",
       "      <td>NaN</td>\n",
       "    </tr>\n",
       "  </tbody>\n",
       "</table>\n",
       "</div>"
      ],
      "text/plain": [
       "        id                                              NAME      host id  \\\n",
       "0  1001254                Clean & quiet apt home by the park  80014485718   \n",
       "1  1002102                             Skylit Midtown Castle  52335172823   \n",
       "2  1002403               THE VILLAGE OF HARLEM....NEW YORK !  78829239556   \n",
       "3  1002755                                               NaN  85098326012   \n",
       "4  1003689  Entire Apt: Spacious Studio/Loft by central park  92037596077   \n",
       "\n",
       "  host_identity_verified host name neighbourhood group neighbourhood  \\\n",
       "0            unconfirmed  Madaline            Brooklyn    Kensington   \n",
       "1               verified     Jenna           Manhattan       Midtown   \n",
       "2                    NaN     Elise           Manhattan        Harlem   \n",
       "3            unconfirmed     Garry            Brooklyn  Clinton Hill   \n",
       "4               verified    Lyndon           Manhattan   East Harlem   \n",
       "\n",
       "        lat      long        country country code instant_bookable  \\\n",
       "0  40.64749 -73.97237  United States           US            False   \n",
       "1  40.75362 -73.98377  United States           US            False   \n",
       "2  40.80902 -73.94190  United States           US             True   \n",
       "3  40.68514 -73.95976  United States           US             True   \n",
       "4  40.79851 -73.94399  United States           US            False   \n",
       "\n",
       "  cancellation_policy        room type  Construction year  price service fee  \\\n",
       "0              strict     Private room             2020.0  966.0       $193    \n",
       "1            moderate  Entire home/apt             2007.0  142.0        $28    \n",
       "2            flexible     Private room             2005.0  620.0       $124    \n",
       "3            moderate  Entire home/apt             2005.0  368.0        $74    \n",
       "4            moderate  Entire home/apt             2009.0  204.0        $41    \n",
       "\n",
       "   minimum nights  number of reviews last review  reviews per month  \\\n",
       "0            10.0                9.0  10/19/2021               0.21   \n",
       "1            30.0               45.0   5/21/2022               0.38   \n",
       "2             3.0                0.0         NaN                NaN   \n",
       "3            30.0              270.0    7/5/2019               4.64   \n",
       "4            10.0                9.0  11/19/2018               0.10   \n",
       "\n",
       "   review rate number  calculated host listings count  availability 365  \\\n",
       "0                 4.0                             6.0             286.0   \n",
       "1                 4.0                             2.0             228.0   \n",
       "2                 5.0                             1.0             352.0   \n",
       "3                 4.0                             1.0             322.0   \n",
       "4                 3.0                             1.0             289.0   \n",
       "\n",
       "                                         house_rules license  \n",
       "0  Clean up and treat the home the way you'd like...     NaN  \n",
       "1  Pet friendly but please confirm with me if the...     NaN  \n",
       "2  I encourage you to use my kitchen, cooking and...     NaN  \n",
       "3                                                NaN     NaN  \n",
       "4  Please no smoking in the house, porch or on th...     NaN  "
      ]
     },
     "execution_count": 38,
     "metadata": {},
     "output_type": "execute_result"
    }
   ],
   "source": [
    "# YOUR CODE HERE\n",
    "def preprocess_airbnb_data(df):\n",
    "    # convert price column to numeric\n",
    "    # fill missing price values with median price, print median price\n",
    "    # remove special characters (non alphanumeric) from host_name columm using regex\n",
    "    # filter listings where availability_365 is greater than 0\n",
    "    df[\"price\"] = df[\"price\"].str.replace(r\"[^0-9.]\", \"\", regex=True)\n",
    "    df[\"price\"] = pd.to_numeric(df[\"price\"], errors=\"coerce\")\n",
    "    median_price = df[\"price\"].median()\n",
    "    print(\"Median price:\", median_price)\n",
    "    df[\"price\"] = df[\"price\"].fillna(median_price)\n",
    "    df[\"host name\"] = df[\"host name\"].str.replace(r\"[^a-zA-Z0-9 ]\", \"\", regex=True)\n",
    "    df_filtered = df[df[\"availability 365\"] > 0]\n",
    "    return df_filtered\n",
    "\n",
    "processed_df = preprocess_airbnb_data(df)\n",
    "processed_df.head()"
   ]
  },
  {
   "cell_type": "markdown",
   "metadata": {
    "deletable": false,
    "editable": false,
    "nbgrader": {
     "cell_type": "markdown",
     "checksum": "d94feada2bdda2abbbb7f5ac9adf1302",
     "grade": false,
     "grade_id": "cell-13a4a10a2c6e7138",
     "locked": true,
     "schema_version": 3,
     "solution": false,
     "task": false
    }
   },
   "source": [
    "### Task 3: Neighborhood Analysis\n",
    "\n",
    "#### Task 3.1 Neighbourhood_analysis (5 Points)\n",
    "Write a function neighbourhood_analysis() that:\n",
    "1. Find the neighborhood with the highest number of listings and print it.\n",
    "2. Calculates the average price per neighborhood and then print the top 3 most expensive neighborhoods.\n",
    "\n",
    "Call the function on the preprocessed dataframe and display the results."
   ]
  },
  {
   "cell_type": "code",
   "execution_count": 37,
   "metadata": {
    "deletable": false,
    "nbgrader": {
     "cell_type": "code",
     "checksum": "2a23ad4c34cbff45d6abc32034acfd72",
     "grade": true,
     "grade_id": "cell-3de6c39e9c1c025f",
     "locked": false,
     "points": 5,
     "schema_version": 3,
     "solution": true,
     "task": false
    }
   },
   "outputs": [
    {
     "name": "stdout",
     "output_type": "stream",
     "text": [
      "Top Neighborhood by # of Listings: Bedford-Stuyvesant with 6055 listings\n",
      "Top 3 Most Expensive Neighbourhoods:\n",
      "New Dorp: $1048.00\n",
      "Chelsea, Staten Island: $1042.00\n",
      "Fort Wadsworth: $1024.00\n"
     ]
    }
   ],
   "source": [
    "# YOUR CODE HERE\n",
    "def neighbourhood_analysis(df):\n",
    "    neighbourhood_counts = df[\"neighbourhood\"].value_counts()\n",
    "    print(f\"Top Neighborhood by # of Listings: {neighbourhood_counts.idxmax()} with {neighbourhood_counts.max()} listings\")\n",
    "    avg_price_per_neighborhood = df.groupby(\"neighbourhood\")[\"price\"].mean()\n",
    "    top_3_expensive = avg_price_per_neighborhood.sort_values(ascending=False).head(3)\n",
    "    print(\"Top 3 Most Expensive Neighbourhoods:\")\n",
    "    for neighbourhood, price in top_3_expensive.items():\n",
    "        print(f\"{neighbourhood}: ${price:.2f}\")\n",
    "\n",
    "neighbourhood_analysis(processed_df)"
   ]
  },
  {
   "cell_type": "markdown",
   "metadata": {
    "deletable": false,
    "editable": false,
    "nbgrader": {
     "cell_type": "markdown",
     "checksum": "45f5266950757943986c8e70473abe10",
     "grade": false,
     "grade_id": "cell-33d31896cb074388",
     "locked": true,
     "schema_version": 3,
     "solution": false,
     "task": false
    }
   },
   "source": [
    "#### Task 3.2: Multi-Variable Price Impact Analysis (5 Points)\n",
    "Write a function multi_variable_price_analysis() that:\n",
    "1. Calculates the average price for each combination of room_type, and neighbourhood.\n",
    "2. Sorts the combinations from highest to lowest average price.\n",
    "3. Prints the top 5 most expensive combinations.\n",
    "\n",
    "Call the function on the preprocessed dataset."
   ]
  },
  {
   "cell_type": "code",
   "execution_count": 39,
   "metadata": {
    "deletable": false,
    "nbgrader": {
     "cell_type": "code",
     "checksum": "b39d15067ef3524180f596a8ebc79d6f",
     "grade": true,
     "grade_id": "cell-cc7ebf8ce30e4283",
     "locked": false,
     "points": 5,
     "schema_version": 3,
     "solution": true,
     "task": false
    }
   },
   "outputs": [
    {
     "name": "stdout",
     "output_type": "stream",
     "text": [
      "Top 5 Most Expensive Room Type and Neighbourhood Combinations:\n",
      "Shared room in Red Hook: $1166.00\n",
      "Shared room in Riverdale: $1155.00\n",
      "Entire home/apt in New Dorp: $1048.00\n",
      "Entire home/apt in Chelsea, Staten Island: $1042.00\n",
      "Private room in Little Neck: $1026.40\n"
     ]
    }
   ],
   "source": [
    "# YOUR CODE HERE\n",
    "def multi_variable_price_analysis(df):\n",
    "    combo_avg_price = df.groupby([\"room type\", \"neighbourhood\"])[\"price\"].mean()\n",
    "    top_5_combos = combo_avg_price.sort_values(ascending=False).head(5)\n",
    "    print(\"Top 5 Most Expensive Room Type and Neighbourhood Combinations:\")\n",
    "    for (room_type, neighbourhood), price in top_5_combos.items():\n",
    "        print(f\"{room_type} in {neighbourhood}: ${price:.2f}\")\n",
    "\n",
    "multi_variable_price_analysis(processed_df)"
   ]
  },
  {
   "cell_type": "markdown",
   "metadata": {
    "deletable": false,
    "editable": false,
    "nbgrader": {
     "cell_type": "markdown",
     "checksum": "0c22d9212f476cbe24e3f766217adba4",
     "grade": false,
     "grade_id": "cell-052fa08c76aa1a38",
     "locked": true,
     "schema_version": 3,
     "solution": false,
     "task": false
    }
   },
   "source": [
    "#### Task 3.3: Host Analysis (5 Points)\n",
    "\n",
    "Write a function host_analysis() that performs the following tasks:\n",
    "\n",
    "1. Find and print the host who has the most listings.\n",
    "2. Calculate the average rating for the top 5 hosts with the highest number of listings. (Use 'review rate number' column)\n",
    "3. Identify how many hosts have listings where reviews_per_month > 2, indicating frequent activity.\n",
    "\n",
    "Lastly, call the function on the preprocessed dataset and display the results.\n"
   ]
  },
  {
   "cell_type": "code",
   "execution_count": 40,
   "metadata": {
    "deletable": false,
    "nbgrader": {
     "cell_type": "code",
     "checksum": "708bfe4d74866f6b8b93b0346fb6e573",
     "grade": true,
     "grade_id": "cell-c619ef67137ea8cc",
     "locked": false,
     "points": 5,
     "schema_version": 3,
     "solution": true,
     "task": false
    }
   },
   "outputs": [
    {
     "name": "stdout",
     "output_type": "stream",
     "text": [
      "Top Host: Michael with 613 listings\n",
      "Top 5 Highest Rated Hosts:\n",
      "Zhur: 5.00\n",
      "5 Star Stays: 5.00\n",
      "Zs: 5.00\n",
      "Zoom Imports: 5.00\n",
      "Zoltan: 5.00\n",
      "Number of Frequent Hosts (2+ reviews/month): 20388\n"
     ]
    }
   ],
   "source": [
    "# YOUR CODE HERE\n",
    "def host_analysis(df):\n",
    "    host_listing_counts = df[\"host name\"].value_counts()\n",
    "    top_host = host_listing_counts.idxmax()\n",
    "    print(f\"Top Host: {top_host} with {host_listing_counts.max()} listings\")\n",
    "    top_5_rated_hosts = df.groupby(\"host name\")[\"review rate number\"].mean().sort_values(ascending=False).head(5)\n",
    "    print(\"Top 5 Highest Rated Hosts:\")\n",
    "    for host, rating in top_5_rated_hosts.items():\n",
    "        print(f\"{host}: {rating:.2f}\")\n",
    "    num_frequent_hosts = (df[\"reviews per month\"] > 2).sum()\n",
    "    print(f\"Number of Frequent Hosts (2+ reviews/month): {num_frequent_hosts}\")\n",
    "\n",
    "host_analysis(processed_df)"
   ]
  },
  {
   "cell_type": "markdown",
   "metadata": {
    "deletable": false,
    "editable": false,
    "nbgrader": {
     "cell_type": "markdown",
     "checksum": "1d6e7bcb6f82285cb03275cd414258df",
     "grade": false,
     "grade_id": "cell-54ed590c87e2536f",
     "locked": true,
     "schema_version": 3,
     "solution": false,
     "task": false
    }
   },
   "source": [
    "#### Task 3.4: House Rules Cumulative Strictness Analysis (Text Processing) (10 Points)\n",
    "\n",
    "Write a function house_rules_analysis() that:\n",
    "\n",
    "1. Uses regular expressions to identify strict and lenient words in the house_rules column.\n",
    "    Strict words include: \"no\", \"not allowed\", \"strict\", \"prohibited\", \"forbidden\".\n",
    "    Lenient words include: \"welcome\", \"allowed\", \"permitted\", \"flexible\".\n",
    "2. Creates a new column rules_strictness_score:\n",
    "    For every occurrence of a strict word, add +1 to the score.\n",
    "    For every occurrence of a lenient word, subtract -1 from the score.\n",
    "\n",
    "Use the function to count and print the number of listings with net positive, negative, and neutral strictness scores. Make sure you make the text case insensitive.\n"
   ]
  },
  {
   "cell_type": "code",
   "execution_count": 45,
   "metadata": {
    "deletable": false,
    "nbgrader": {
     "cell_type": "code",
     "checksum": "e6ad054fcd2a3f49f6c444e203fcaa7d",
     "grade": true,
     "grade_id": "cell-97a081fffd07955e",
     "locked": false,
     "points": 10,
     "schema_version": 3,
     "solution": true,
     "task": false
    }
   },
   "outputs": [
    {
     "name": "stdout",
     "output_type": "stream",
     "text": [
      "# of Listings with Strict House Rules: 25763\n",
      "# of Listings with Lenient House Rules: 10361\n",
      "# of Listings with Positive Rules Strictness Score: 16689\n",
      "# of Listings with Negative Rules Strictness Score: 1287\n",
      "# of Listings with Zero Rules Strictness Score: 60199\n"
     ]
    },
    {
     "data": {
      "text/html": [
       "<div>\n",
       "<style scoped>\n",
       "    .dataframe tbody tr th:only-of-type {\n",
       "        vertical-align: middle;\n",
       "    }\n",
       "\n",
       "    .dataframe tbody tr th {\n",
       "        vertical-align: top;\n",
       "    }\n",
       "\n",
       "    .dataframe thead th {\n",
       "        text-align: right;\n",
       "    }\n",
       "</style>\n",
       "<table border=\"1\" class=\"dataframe\">\n",
       "  <thead>\n",
       "    <tr style=\"text-align: right;\">\n",
       "      <th></th>\n",
       "      <th>id</th>\n",
       "      <th>NAME</th>\n",
       "      <th>host id</th>\n",
       "      <th>host_identity_verified</th>\n",
       "      <th>host name</th>\n",
       "      <th>neighbourhood group</th>\n",
       "      <th>neighbourhood</th>\n",
       "      <th>lat</th>\n",
       "      <th>long</th>\n",
       "      <th>country</th>\n",
       "      <th>country code</th>\n",
       "      <th>instant_bookable</th>\n",
       "      <th>cancellation_policy</th>\n",
       "      <th>room type</th>\n",
       "      <th>Construction year</th>\n",
       "      <th>price</th>\n",
       "      <th>service fee</th>\n",
       "      <th>minimum nights</th>\n",
       "      <th>number of reviews</th>\n",
       "      <th>last review</th>\n",
       "      <th>reviews per month</th>\n",
       "      <th>review rate number</th>\n",
       "      <th>calculated host listings count</th>\n",
       "      <th>availability 365</th>\n",
       "      <th>house_rules</th>\n",
       "      <th>license</th>\n",
       "      <th>rules_strictness_score</th>\n",
       "    </tr>\n",
       "  </thead>\n",
       "  <tbody>\n",
       "    <tr>\n",
       "      <th>0</th>\n",
       "      <td>1001254</td>\n",
       "      <td>Clean &amp; quiet apt home by the park</td>\n",
       "      <td>80014485718</td>\n",
       "      <td>unconfirmed</td>\n",
       "      <td>Madaline</td>\n",
       "      <td>Brooklyn</td>\n",
       "      <td>Kensington</td>\n",
       "      <td>40.64749</td>\n",
       "      <td>-73.97237</td>\n",
       "      <td>United States</td>\n",
       "      <td>US</td>\n",
       "      <td>False</td>\n",
       "      <td>strict</td>\n",
       "      <td>Private room</td>\n",
       "      <td>2020.0</td>\n",
       "      <td>966.0</td>\n",
       "      <td>$193</td>\n",
       "      <td>10.0</td>\n",
       "      <td>9.0</td>\n",
       "      <td>10/19/2021</td>\n",
       "      <td>0.21</td>\n",
       "      <td>4.0</td>\n",
       "      <td>6.0</td>\n",
       "      <td>286.0</td>\n",
       "      <td>Clean up and treat the home the way you'd like...</td>\n",
       "      <td>NaN</td>\n",
       "      <td>1</td>\n",
       "    </tr>\n",
       "    <tr>\n",
       "      <th>1</th>\n",
       "      <td>1002102</td>\n",
       "      <td>Skylit Midtown Castle</td>\n",
       "      <td>52335172823</td>\n",
       "      <td>verified</td>\n",
       "      <td>Jenna</td>\n",
       "      <td>Manhattan</td>\n",
       "      <td>Midtown</td>\n",
       "      <td>40.75362</td>\n",
       "      <td>-73.98377</td>\n",
       "      <td>United States</td>\n",
       "      <td>US</td>\n",
       "      <td>False</td>\n",
       "      <td>moderate</td>\n",
       "      <td>Entire home/apt</td>\n",
       "      <td>2007.0</td>\n",
       "      <td>142.0</td>\n",
       "      <td>$28</td>\n",
       "      <td>30.0</td>\n",
       "      <td>45.0</td>\n",
       "      <td>5/21/2022</td>\n",
       "      <td>0.38</td>\n",
       "      <td>4.0</td>\n",
       "      <td>2.0</td>\n",
       "      <td>228.0</td>\n",
       "      <td>Pet friendly but please confirm with me if the...</td>\n",
       "      <td>NaN</td>\n",
       "      <td>-1</td>\n",
       "    </tr>\n",
       "    <tr>\n",
       "      <th>2</th>\n",
       "      <td>1002403</td>\n",
       "      <td>THE VILLAGE OF HARLEM....NEW YORK !</td>\n",
       "      <td>78829239556</td>\n",
       "      <td>NaN</td>\n",
       "      <td>Elise</td>\n",
       "      <td>Manhattan</td>\n",
       "      <td>Harlem</td>\n",
       "      <td>40.80902</td>\n",
       "      <td>-73.94190</td>\n",
       "      <td>United States</td>\n",
       "      <td>US</td>\n",
       "      <td>True</td>\n",
       "      <td>flexible</td>\n",
       "      <td>Private room</td>\n",
       "      <td>2005.0</td>\n",
       "      <td>620.0</td>\n",
       "      <td>$124</td>\n",
       "      <td>3.0</td>\n",
       "      <td>0.0</td>\n",
       "      <td>NaN</td>\n",
       "      <td>NaN</td>\n",
       "      <td>5.0</td>\n",
       "      <td>1.0</td>\n",
       "      <td>352.0</td>\n",
       "      <td>I encourage you to use my kitchen, cooking and...</td>\n",
       "      <td>NaN</td>\n",
       "      <td>1</td>\n",
       "    </tr>\n",
       "    <tr>\n",
       "      <th>3</th>\n",
       "      <td>1002755</td>\n",
       "      <td>NaN</td>\n",
       "      <td>85098326012</td>\n",
       "      <td>unconfirmed</td>\n",
       "      <td>Garry</td>\n",
       "      <td>Brooklyn</td>\n",
       "      <td>Clinton Hill</td>\n",
       "      <td>40.68514</td>\n",
       "      <td>-73.95976</td>\n",
       "      <td>United States</td>\n",
       "      <td>US</td>\n",
       "      <td>True</td>\n",
       "      <td>moderate</td>\n",
       "      <td>Entire home/apt</td>\n",
       "      <td>2005.0</td>\n",
       "      <td>368.0</td>\n",
       "      <td>$74</td>\n",
       "      <td>30.0</td>\n",
       "      <td>270.0</td>\n",
       "      <td>7/5/2019</td>\n",
       "      <td>4.64</td>\n",
       "      <td>4.0</td>\n",
       "      <td>1.0</td>\n",
       "      <td>322.0</td>\n",
       "      <td>NaN</td>\n",
       "      <td>NaN</td>\n",
       "      <td>0</td>\n",
       "    </tr>\n",
       "    <tr>\n",
       "      <th>4</th>\n",
       "      <td>1003689</td>\n",
       "      <td>Entire Apt: Spacious Studio/Loft by central park</td>\n",
       "      <td>92037596077</td>\n",
       "      <td>verified</td>\n",
       "      <td>Lyndon</td>\n",
       "      <td>Manhattan</td>\n",
       "      <td>East Harlem</td>\n",
       "      <td>40.79851</td>\n",
       "      <td>-73.94399</td>\n",
       "      <td>United States</td>\n",
       "      <td>US</td>\n",
       "      <td>False</td>\n",
       "      <td>moderate</td>\n",
       "      <td>Entire home/apt</td>\n",
       "      <td>2009.0</td>\n",
       "      <td>204.0</td>\n",
       "      <td>$41</td>\n",
       "      <td>10.0</td>\n",
       "      <td>9.0</td>\n",
       "      <td>11/19/2018</td>\n",
       "      <td>0.10</td>\n",
       "      <td>3.0</td>\n",
       "      <td>1.0</td>\n",
       "      <td>289.0</td>\n",
       "      <td>Please no smoking in the house, porch or on th...</td>\n",
       "      <td>NaN</td>\n",
       "      <td>1</td>\n",
       "    </tr>\n",
       "    <tr>\n",
       "      <th>...</th>\n",
       "      <td>...</td>\n",
       "      <td>...</td>\n",
       "      <td>...</td>\n",
       "      <td>...</td>\n",
       "      <td>...</td>\n",
       "      <td>...</td>\n",
       "      <td>...</td>\n",
       "      <td>...</td>\n",
       "      <td>...</td>\n",
       "      <td>...</td>\n",
       "      <td>...</td>\n",
       "      <td>...</td>\n",
       "      <td>...</td>\n",
       "      <td>...</td>\n",
       "      <td>...</td>\n",
       "      <td>...</td>\n",
       "      <td>...</td>\n",
       "      <td>...</td>\n",
       "      <td>...</td>\n",
       "      <td>...</td>\n",
       "      <td>...</td>\n",
       "      <td>...</td>\n",
       "      <td>...</td>\n",
       "      <td>...</td>\n",
       "      <td>...</td>\n",
       "      <td>...</td>\n",
       "      <td>...</td>\n",
       "    </tr>\n",
       "    <tr>\n",
       "      <th>102594</th>\n",
       "      <td>6092437</td>\n",
       "      <td>Spare room in Williamsburg</td>\n",
       "      <td>12312296767</td>\n",
       "      <td>verified</td>\n",
       "      <td>Krik</td>\n",
       "      <td>Brooklyn</td>\n",
       "      <td>Williamsburg</td>\n",
       "      <td>40.70862</td>\n",
       "      <td>-73.94651</td>\n",
       "      <td>United States</td>\n",
       "      <td>US</td>\n",
       "      <td>False</td>\n",
       "      <td>flexible</td>\n",
       "      <td>Private room</td>\n",
       "      <td>2003.0</td>\n",
       "      <td>844.0</td>\n",
       "      <td>$169</td>\n",
       "      <td>1.0</td>\n",
       "      <td>0.0</td>\n",
       "      <td>NaN</td>\n",
       "      <td>NaN</td>\n",
       "      <td>3.0</td>\n",
       "      <td>1.0</td>\n",
       "      <td>227.0</td>\n",
       "      <td>No Smoking No Parties or Events of any kind Pl...</td>\n",
       "      <td>NaN</td>\n",
       "      <td>1</td>\n",
       "    </tr>\n",
       "    <tr>\n",
       "      <th>102595</th>\n",
       "      <td>6092990</td>\n",
       "      <td>Best Location near Columbia U</td>\n",
       "      <td>77864383453</td>\n",
       "      <td>unconfirmed</td>\n",
       "      <td>Mifan</td>\n",
       "      <td>Manhattan</td>\n",
       "      <td>Morningside Heights</td>\n",
       "      <td>40.80460</td>\n",
       "      <td>-73.96545</td>\n",
       "      <td>United States</td>\n",
       "      <td>US</td>\n",
       "      <td>True</td>\n",
       "      <td>moderate</td>\n",
       "      <td>Private room</td>\n",
       "      <td>2016.0</td>\n",
       "      <td>837.0</td>\n",
       "      <td>$167</td>\n",
       "      <td>1.0</td>\n",
       "      <td>1.0</td>\n",
       "      <td>7/6/2015</td>\n",
       "      <td>0.02</td>\n",
       "      <td>2.0</td>\n",
       "      <td>2.0</td>\n",
       "      <td>395.0</td>\n",
       "      <td>House rules: Guests agree to the following ter...</td>\n",
       "      <td>NaN</td>\n",
       "      <td>0</td>\n",
       "    </tr>\n",
       "    <tr>\n",
       "      <th>102596</th>\n",
       "      <td>6093542</td>\n",
       "      <td>Comfy, bright room in Brooklyn</td>\n",
       "      <td>69050334417</td>\n",
       "      <td>unconfirmed</td>\n",
       "      <td>Megan</td>\n",
       "      <td>Brooklyn</td>\n",
       "      <td>Park Slope</td>\n",
       "      <td>40.67505</td>\n",
       "      <td>-73.98045</td>\n",
       "      <td>United States</td>\n",
       "      <td>US</td>\n",
       "      <td>True</td>\n",
       "      <td>moderate</td>\n",
       "      <td>Private room</td>\n",
       "      <td>2009.0</td>\n",
       "      <td>988.0</td>\n",
       "      <td>$198</td>\n",
       "      <td>3.0</td>\n",
       "      <td>0.0</td>\n",
       "      <td>NaN</td>\n",
       "      <td>NaN</td>\n",
       "      <td>5.0</td>\n",
       "      <td>1.0</td>\n",
       "      <td>342.0</td>\n",
       "      <td>NaN</td>\n",
       "      <td>NaN</td>\n",
       "      <td>0</td>\n",
       "    </tr>\n",
       "    <tr>\n",
       "      <th>102597</th>\n",
       "      <td>6094094</td>\n",
       "      <td>Big Studio-One Stop from Midtown</td>\n",
       "      <td>11160591270</td>\n",
       "      <td>unconfirmed</td>\n",
       "      <td>Christopher</td>\n",
       "      <td>Queens</td>\n",
       "      <td>Long Island City</td>\n",
       "      <td>40.74989</td>\n",
       "      <td>-73.93777</td>\n",
       "      <td>United States</td>\n",
       "      <td>US</td>\n",
       "      <td>True</td>\n",
       "      <td>strict</td>\n",
       "      <td>Entire home/apt</td>\n",
       "      <td>2015.0</td>\n",
       "      <td>546.0</td>\n",
       "      <td>$109</td>\n",
       "      <td>2.0</td>\n",
       "      <td>5.0</td>\n",
       "      <td>10/11/2015</td>\n",
       "      <td>0.10</td>\n",
       "      <td>3.0</td>\n",
       "      <td>1.0</td>\n",
       "      <td>386.0</td>\n",
       "      <td>NaN</td>\n",
       "      <td>NaN</td>\n",
       "      <td>0</td>\n",
       "    </tr>\n",
       "    <tr>\n",
       "      <th>102598</th>\n",
       "      <td>6094647</td>\n",
       "      <td>585 sf Luxury Studio</td>\n",
       "      <td>68170633372</td>\n",
       "      <td>unconfirmed</td>\n",
       "      <td>Rebecca</td>\n",
       "      <td>Manhattan</td>\n",
       "      <td>Upper West Side</td>\n",
       "      <td>40.76807</td>\n",
       "      <td>-73.98342</td>\n",
       "      <td>United States</td>\n",
       "      <td>US</td>\n",
       "      <td>False</td>\n",
       "      <td>flexible</td>\n",
       "      <td>Entire home/apt</td>\n",
       "      <td>2010.0</td>\n",
       "      <td>1032.0</td>\n",
       "      <td>$206</td>\n",
       "      <td>1.0</td>\n",
       "      <td>0.0</td>\n",
       "      <td>NaN</td>\n",
       "      <td>NaN</td>\n",
       "      <td>3.0</td>\n",
       "      <td>1.0</td>\n",
       "      <td>69.0</td>\n",
       "      <td>NaN</td>\n",
       "      <td>NaN</td>\n",
       "      <td>0</td>\n",
       "    </tr>\n",
       "  </tbody>\n",
       "</table>\n",
       "<p>78175 rows × 27 columns</p>\n",
       "</div>"
      ],
      "text/plain": [
       "             id                                              NAME  \\\n",
       "0       1001254                Clean & quiet apt home by the park   \n",
       "1       1002102                             Skylit Midtown Castle   \n",
       "2       1002403               THE VILLAGE OF HARLEM....NEW YORK !   \n",
       "3       1002755                                               NaN   \n",
       "4       1003689  Entire Apt: Spacious Studio/Loft by central park   \n",
       "...         ...                                               ...   \n",
       "102594  6092437                        Spare room in Williamsburg   \n",
       "102595  6092990                     Best Location near Columbia U   \n",
       "102596  6093542                    Comfy, bright room in Brooklyn   \n",
       "102597  6094094                  Big Studio-One Stop from Midtown   \n",
       "102598  6094647                              585 sf Luxury Studio   \n",
       "\n",
       "            host id host_identity_verified    host name neighbourhood group  \\\n",
       "0       80014485718            unconfirmed     Madaline            Brooklyn   \n",
       "1       52335172823               verified        Jenna           Manhattan   \n",
       "2       78829239556                    NaN        Elise           Manhattan   \n",
       "3       85098326012            unconfirmed        Garry            Brooklyn   \n",
       "4       92037596077               verified       Lyndon           Manhattan   \n",
       "...             ...                    ...          ...                 ...   \n",
       "102594  12312296767               verified         Krik            Brooklyn   \n",
       "102595  77864383453            unconfirmed        Mifan           Manhattan   \n",
       "102596  69050334417            unconfirmed        Megan            Brooklyn   \n",
       "102597  11160591270            unconfirmed  Christopher              Queens   \n",
       "102598  68170633372            unconfirmed      Rebecca           Manhattan   \n",
       "\n",
       "              neighbourhood       lat      long        country country code  \\\n",
       "0                Kensington  40.64749 -73.97237  United States           US   \n",
       "1                   Midtown  40.75362 -73.98377  United States           US   \n",
       "2                    Harlem  40.80902 -73.94190  United States           US   \n",
       "3              Clinton Hill  40.68514 -73.95976  United States           US   \n",
       "4               East Harlem  40.79851 -73.94399  United States           US   \n",
       "...                     ...       ...       ...            ...          ...   \n",
       "102594         Williamsburg  40.70862 -73.94651  United States           US   \n",
       "102595  Morningside Heights  40.80460 -73.96545  United States           US   \n",
       "102596           Park Slope  40.67505 -73.98045  United States           US   \n",
       "102597     Long Island City  40.74989 -73.93777  United States           US   \n",
       "102598      Upper West Side  40.76807 -73.98342  United States           US   \n",
       "\n",
       "       instant_bookable cancellation_policy        room type  \\\n",
       "0                 False              strict     Private room   \n",
       "1                 False            moderate  Entire home/apt   \n",
       "2                  True            flexible     Private room   \n",
       "3                  True            moderate  Entire home/apt   \n",
       "4                 False            moderate  Entire home/apt   \n",
       "...                 ...                 ...              ...   \n",
       "102594            False            flexible     Private room   \n",
       "102595             True            moderate     Private room   \n",
       "102596             True            moderate     Private room   \n",
       "102597             True              strict  Entire home/apt   \n",
       "102598            False            flexible  Entire home/apt   \n",
       "\n",
       "        Construction year   price service fee  minimum nights  \\\n",
       "0                  2020.0   966.0       $193             10.0   \n",
       "1                  2007.0   142.0        $28             30.0   \n",
       "2                  2005.0   620.0       $124              3.0   \n",
       "3                  2005.0   368.0        $74             30.0   \n",
       "4                  2009.0   204.0        $41             10.0   \n",
       "...                   ...     ...         ...             ...   \n",
       "102594             2003.0   844.0       $169              1.0   \n",
       "102595             2016.0   837.0       $167              1.0   \n",
       "102596             2009.0   988.0       $198              3.0   \n",
       "102597             2015.0   546.0       $109              2.0   \n",
       "102598             2010.0  1032.0       $206              1.0   \n",
       "\n",
       "        number of reviews last review  reviews per month  review rate number  \\\n",
       "0                     9.0  10/19/2021               0.21                 4.0   \n",
       "1                    45.0   5/21/2022               0.38                 4.0   \n",
       "2                     0.0         NaN                NaN                 5.0   \n",
       "3                   270.0    7/5/2019               4.64                 4.0   \n",
       "4                     9.0  11/19/2018               0.10                 3.0   \n",
       "...                   ...         ...                ...                 ...   \n",
       "102594                0.0         NaN                NaN                 3.0   \n",
       "102595                1.0    7/6/2015               0.02                 2.0   \n",
       "102596                0.0         NaN                NaN                 5.0   \n",
       "102597                5.0  10/11/2015               0.10                 3.0   \n",
       "102598                0.0         NaN                NaN                 3.0   \n",
       "\n",
       "        calculated host listings count  availability 365  \\\n",
       "0                                  6.0             286.0   \n",
       "1                                  2.0             228.0   \n",
       "2                                  1.0             352.0   \n",
       "3                                  1.0             322.0   \n",
       "4                                  1.0             289.0   \n",
       "...                                ...               ...   \n",
       "102594                             1.0             227.0   \n",
       "102595                             2.0             395.0   \n",
       "102596                             1.0             342.0   \n",
       "102597                             1.0             386.0   \n",
       "102598                             1.0              69.0   \n",
       "\n",
       "                                              house_rules license  \\\n",
       "0       Clean up and treat the home the way you'd like...     NaN   \n",
       "1       Pet friendly but please confirm with me if the...     NaN   \n",
       "2       I encourage you to use my kitchen, cooking and...     NaN   \n",
       "3                                                     NaN     NaN   \n",
       "4       Please no smoking in the house, porch or on th...     NaN   \n",
       "...                                                   ...     ...   \n",
       "102594  No Smoking No Parties or Events of any kind Pl...     NaN   \n",
       "102595  House rules: Guests agree to the following ter...     NaN   \n",
       "102596                                                NaN     NaN   \n",
       "102597                                                NaN     NaN   \n",
       "102598                                                NaN     NaN   \n",
       "\n",
       "        rules_strictness_score  \n",
       "0                            1  \n",
       "1                           -1  \n",
       "2                            1  \n",
       "3                            0  \n",
       "4                            1  \n",
       "...                        ...  \n",
       "102594                       1  \n",
       "102595                       0  \n",
       "102596                       0  \n",
       "102597                       0  \n",
       "102598                       0  \n",
       "\n",
       "[78175 rows x 27 columns]"
      ]
     },
     "execution_count": 45,
     "metadata": {},
     "output_type": "execute_result"
    }
   ],
   "source": [
    "# YOUR CODE HERE\n",
    "def house_rules_analysis(df):\n",
    "    df = df.copy()\n",
    "    strict_words = r\"\\b(?:no|not allowed|strict|prohibited|forbidden)\\b\"\n",
    "    lenient_words = r\"\\b(?:welcome|allowed|permitted|flexible)\\b\"\n",
    "\n",
    "    print(f\"# of Listings with Strict House Rules: {df[\"house_rules\"].str.contains(strict_words, case=False, na=False).sum()}\")\n",
    "    print(f\"# of Listings with Lenient House Rules: {df[\"house_rules\"].str.contains(lenient_words, case=False, na=False).sum()}\")\n",
    "    df[\"rules_strictness_score\"] = df[\"house_rules\"].str.contains(strict_words, case=False, na=False).astype(int) - df[\"house_rules\"].str.contains(lenient_words, case=False, na=False).astype(int)\n",
    "    positive_count = (df[\"rules_strictness_score\"] > 0).sum()\n",
    "    negative_count = (df[\"rules_strictness_score\"] < 0).sum()\n",
    "    zero_count = (df[\"rules_strictness_score\"] == 0).sum()\n",
    "    print(f\"# of Listings with Positive Rules Strictness Score: {positive_count}\")\n",
    "    print(f\"# of Listings with Negative Rules Strictness Score: {negative_count}\")\n",
    "    print(f\"# of Listings with Zero Rules Strictness Score: {zero_count}\")\n",
    "    return df\n",
    "\n",
    "processed_df = house_rules_analysis(processed_df)\n",
    "processed_df"
   ]
  },
  {
   "cell_type": "markdown",
   "metadata": {
    "deletable": false,
    "editable": false,
    "nbgrader": {
     "cell_type": "markdown",
     "checksum": "a6a8bcafe405fd03bcdd8ff73897f494",
     "grade": false,
     "grade_id": "cell-e1a4b72ca1127151",
     "locked": true,
     "schema_version": 3,
     "solution": false,
     "task": false
    }
   },
   "source": [
    "## Exercise 4: Visualizations (15 Points)"
   ]
  },
  {
   "cell_type": "markdown",
   "metadata": {
    "deletable": false,
    "editable": false,
    "nbgrader": {
     "cell_type": "markdown",
     "checksum": "d2329e20a9b07bb5a76af04ecc957760",
     "grade": false,
     "grade_id": "cell-9bdba22a67c1df9a",
     "locked": true,
     "schema_version": 3,
     "solution": false,
     "task": false
    }
   },
   "source": [
    "### Task 4.1: Price per Room Type (5 Points)\n",
    "\n",
    "Write a function plot_price_per_room_type() that plots the average price per room type using a bar chart."
   ]
  },
  {
   "cell_type": "code",
   "execution_count": 57,
   "metadata": {
    "deletable": false,
    "nbgrader": {
     "cell_type": "code",
     "checksum": "e8d358fe24cdbe64b411b0c108bd11c7",
     "grade": true,
     "grade_id": "cell-8836023c1bb87820",
     "locked": false,
     "points": 5,
     "schema_version": 3,
     "solution": true,
     "task": false
    }
   },
   "outputs": [
    {
     "data": {
      "image/png": "[encoded data removed]",
      "text/plain": [
       "<Figure size 640x480 with 1 Axes>"
      ]
     },
     "metadata": {},
     "output_type": "display_data"
    }
   ],
   "source": [
    "# YOUR CODE HERE\n",
    "import matplotlib.pyplot as plt\n",
    "\n",
    "def plot_price_per_room_type(df):\n",
    "    avg_price_per_room_type = df.groupby(\"room type\")[\"price\"].mean()\n",
    "    avg_price_per_room_type.plot(kind=\"bar\", color=\"skyblue\")\n",
    "    plt.title(\"Average Price per Room Type\")\n",
    "    plt.xlabel(\"Room Type\")\n",
    "    plt.ylabel(\"Average Price ($)\")\n",
    "    plt.xticks(rotation=45)\n",
    "    plt.show()\n",
    "\n",
    "plot_price_per_room_type(processed_df)"
   ]
  },
  {
   "cell_type": "markdown",
   "metadata": {
    "deletable": false,
    "editable": false,
    "nbgrader": {
     "cell_type": "markdown",
     "checksum": "5b9dfdf45367c1ee25ea9eb34e9bcedf",
     "grade": false,
     "grade_id": "cell-f33f56b068f53d62",
     "locked": true,
     "schema_version": 3,
     "solution": false,
     "task": false
    }
   },
   "source": [
    "### Task 4.2: Review Distribution (5 Points)\n",
    "\n",
    "Write a function plot_reviews_distribution() that plots a histogram of the number_of_reviews column, showing the distribution of reviews per listing. (Limit number_of_reviews values to 400)"
   ]
  },
  {
   "cell_type": "code",
   "execution_count": 58,
   "metadata": {
    "deletable": false,
    "nbgrader": {
     "cell_type": "code",
     "checksum": "02d6c6f25e929e7a9bda49bdd399155f",
     "grade": true,
     "grade_id": "cell-cbbc6e088c134206",
     "locked": false,
     "points": 5,
     "schema_version": 3,
     "solution": true,
     "task": false
    }
   },
   "outputs": [
    {
     "data": {
      "image/png": "[encoded data removed]",
      "text/plain": [
       "<Figure size 640x480 with 1 Axes>"
      ]
     },
     "metadata": {},
     "output_type": "display_data"
    }
   ],
   "source": [
    "# YOUR CODE HERE\n",
    "def plot_reviews_distribution(df):\n",
    "    plt.hist(df[\"number of reviews\"].dropna(), bins=30, edgecolor=\"black\")\n",
    "    plt.title(\"Distribution of Number of Reviews\")\n",
    "    plt.xlabel(\"Number of Reviews\")\n",
    "    plt.ylabel(\"Frequency\")\n",
    "    plt.xlim(0, 400)\n",
    "    plt.show()\n",
    "\n",
    "plot_reviews_distribution(processed_df)"
   ]
  },
  {
   "cell_type": "markdown",
   "metadata": {
    "deletable": false,
    "editable": false,
    "nbgrader": {
     "cell_type": "markdown",
     "checksum": "e2aaf8dd4732242c434ef8ed963f46a2",
     "grade": false,
     "grade_id": "cell-12411763bf9d021d",
     "locked": true,
     "schema_version": 3,
     "solution": false,
     "task": false
    }
   },
   "source": [
    "### Task 4.3: Average Price per Room Type by Neighborhood (5 Points)\n",
    "\n",
    "Write a function average_price_by_room_and_neighborhood() that:\n",
    "\n",
    "1. Groups listings by room type and neighbourhood group, calculating the average price for each combination.\n",
    "2. Plots a bar chart showing the average price for each room type across different neighborhoods.\n",
    "\n",
    "This analysis helps in understanding how room types are priced differently across neighborhoods."
   ]
  },
  {
   "cell_type": "code",
   "execution_count": 61,
   "metadata": {
    "deletable": false,
    "nbgrader": {
     "cell_type": "code",
     "checksum": "bfd755330c9b547b274ec79f256ff580",
     "grade": true,
     "grade_id": "cell-f37d942dd6c6aef6",
     "locked": false,
     "points": 5,
     "schema_version": 3,
     "solution": true,
     "task": false
    }
   },
   "outputs": [
    {
     "data": {
      "image/png": "[encoded data removed]",
      "text/plain": [
       "<Figure size 640x480 with 1 Axes>"
      ]
     },
     "metadata": {},
     "output_type": "display_data"
    }
   ],
   "source": [
    "# YOUR CODE HERE\n",
    "def average_price_by_room_and_neighbourhood(df):\n",
    "    pivot_table = df.pivot_table(values=\"price\", index=\"room type\", columns=\"neighbourhood group\", aggfunc=\"mean\")\n",
    "    pivot_table.plot(kind=\"bar\")\n",
    "    plt.title(\"Average Price by Room Type and Neighbourhood Group\")\n",
    "    plt.xlabel(\"Room Type\")\n",
    "    plt.ylabel(\"Average Price ($)\")\n",
    "    plt.xticks(rotation=45)\n",
    "    plt.legend(bbox_to_anchor=(1.05, 1), loc='upper left')\n",
    "    plt.show()\n",
    "\n",
    "average_price_by_room_and_neighbourhood(processed_df)"
   ]
  },
  {
   "cell_type": "markdown",
   "metadata": {
    "deletable": false,
    "editable": false,
    "nbgrader": {
     "cell_type": "markdown",
     "checksum": "7dc7a0ba4f51566d878e565488b5f885",
     "grade": false,
     "grade_id": "cell-69918788519b38f1",
     "locked": true,
     "schema_version": 3,
     "solution": false,
     "task": false
    }
   },
   "source": [
    "## Exercise 5:  Functional Programming with map and filter (10 Points)"
   ]
  },
  {
   "cell_type": "markdown",
   "metadata": {
    "deletable": false,
    "editable": false,
    "nbgrader": {
     "cell_type": "markdown",
     "checksum": "68722297bbc191bde98dff630a7477e0",
     "grade": false,
     "grade_id": "cell-8ffe1bbe3b0eb16a",
     "locked": true,
     "schema_version": 3,
     "solution": false,
     "task": false
    }
   },
   "source": [
    "Write a function process_numbers() that:\n",
    "\n",
    "1. Takes a list of integers.\n",
    "2. Uses the map function to square each integer.\n",
    "3. Uses the filter function to keep only the squared numbers where the sum of digits is greater than 10.\n",
    "4. Return the final filtered list.\n",
    "\n",
    "Additional Requirement:\n",
    "Define a separate helper function sum_of_digits() to calculate the sum of the digits."
   ]
  },
  {
   "cell_type": "code",
   "execution_count": 64,
   "metadata": {
    "deletable": false,
    "nbgrader": {
     "cell_type": "code",
     "checksum": "35965aa86c6fb0cd5dae7ee85afd22f7",
     "grade": true,
     "grade_id": "cell-aef412529ef3f849",
     "locked": false,
     "points": 10,
     "schema_version": 3,
     "solution": true,
     "task": false
    }
   },
   "outputs": [],
   "source": [
    "# YOUR CODE HERE\n",
    "def sum_of_digits(i):\n",
    "    return sum(int(digit) for digit in str(i))\n",
    "\n",
    "def process_numbers(lst):\n",
    "    return list(filter(lambda x: sum_of_digits(x) > 10, map(lambda x: x**2, lst)))"
   ]
  },
  {
   "cell_type": "markdown",
   "metadata": {
    "deletable": false,
    "editable": false,
    "nbgrader": {
     "cell_type": "markdown",
     "checksum": "8f59c0b43e41a2b866074f3e2b4aa50d",
     "grade": false,
     "grade_id": "cell-c65e1a71d725dca3",
     "locked": true,
     "schema_version": 3,
     "solution": false,
     "task": false
    }
   },
   "source": [
    "### Run this block of code - Don't Edit "
   ]
  },
  {
   "cell_type": "code",
   "execution_count": 63,
   "metadata": {
    "deletable": false,
    "editable": false,
    "nbgrader": {
     "cell_type": "code",
     "checksum": "9d3f222dcf7a521cd088f5c7fb142526",
     "grade": false,
     "grade_id": "cell-5465f37b69789957",
     "locked": true,
     "schema_version": 3,
     "solution": false,
     "task": false
    }
   },
   "outputs": [
    {
     "name": "stdout",
     "output_type": "stream",
     "text": [
      "[49, 529]\n"
     ]
    }
   ],
   "source": [
    "numbers = [1, 5, 11, 2, 7, 23]\n",
    "filtered_result = process_numbers(numbers)\n",
    "print(filtered_result)"
   ]
  }
 ],
 "metadata": {
  "kernelspec": {
   "display_name": "Python 3",
   "language": "python",
   "name": "python3"
  },
  "language_info": {
   "codemirror_mode": {
    "name": "ipython",
    "version": 3
   },
   "file_extension": ".py",
   "mimetype": "text/x-python",
   "name": "python",
   "nbconvert_exporter": "python",
   "pygments_lexer": "ipython3",
   "version": "3.13.7"
  }
 },
 "nbformat": 4,
 "nbformat_minor": 4
}
