{
 "cells": [
  {
   "cell_type": "markdown",
   "metadata": {
    "deletable": false,
    "editable": false,
    "nbgrader": {
     "cell_type": "markdown",
     "checksum": "35260a7ff7aa4ce0ef8edcd6391438c2",
     "grade": false,
     "grade_id": "cell-4e065765673b8e8e",
     "locked": true,
     "schema_version": 3,
     "solution": false,
     "task": false
    }
   },
   "source": [
    "# Assignment 2\n",
    "\n",
    "**Note:**\n",
    "1. This assignment is designed to assess your comprehension of the course material.\n",
    "2. There are no specific assertion cases provided; you will be evaluated based on the results and correct approach to the questions.\n",
    " - For numeric arrays or DataFrames, print the full array if it’s small (e.g., NumPy arrays of shape < 10x10).\n",
    " - For larger outputs (e.g., DataFrames with many rows), print the first 5–10 rows using .head() or array slicing.\n",
    "3. Submit the assignment on DataHub.\n",
    "4. Plagiarism and AI similarity checks will be conducted."
   ]
  },
  {
   "cell_type": "markdown",
   "metadata": {
    "deletable": false,
    "editable": false,
    "nbgrader": {
     "cell_type": "markdown",
     "checksum": "e90c1e32bf036a75fbd0a2cc22baa5c6",
     "grade": false,
     "grade_id": "cell-4d8861a5169eda5b",
     "locked": true,
     "schema_version": 3,
     "solution": false,
     "task": false
    }
   },
   "source": [
    "## Exercise 1: Numpy (20 Points)"
   ]
  },
  {
   "cell_type": "markdown",
   "metadata": {
    "deletable": false,
    "editable": false,
    "nbgrader": {
     "cell_type": "markdown",
     "checksum": "88e5766a1d4a759fb9f1c2190b42f830",
     "grade": false,
     "grade_id": "cell-44900f211948dcef",
     "locked": true,
     "schema_version": 3,
     "solution": false,
     "task": false
    }
   },
   "source": [
    "### Task 1: (3 points)\n",
    "\n",
    "Utilize NumPy np.arange and reshape functions to create a 2D array A with the following shape:\n",
    "\n",
    "A = [[1 2 3], [4 5 6], [7 8 9], [10 11 12]]"
   ]
  },
  {
   "cell_type": "code",
   "execution_count": null,
   "metadata": {
    "deletable": false,
    "nbgrader": {
     "cell_type": "code",
     "checksum": "acf5e150a59064596451fde7b8a70243",
     "grade": true,
     "grade_id": "cell-8ef663f2b2c3b74f",
     "locked": false,
     "points": 3,
     "schema_version": 3,
     "solution": true,
     "task": false
    }
   },
   "outputs": [],
   "source": [
    "# YOUR CODE HERE\n",
    "raise NotImplementedError()"
   ]
  },
  {
   "cell_type": "markdown",
   "metadata": {
    "deletable": false,
    "editable": false,
    "nbgrader": {
     "cell_type": "markdown",
     "checksum": "a05f06f3e6032a046fa8364a4276f08a",
     "grade": false,
     "grade_id": "cell-dbd72b3fd5418ad9",
     "locked": true,
     "schema_version": 3,
     "solution": false,
     "task": false
    }
   },
   "source": [
    "### Task 2: (2 points)\n",
    "\n",
    " Create a 1D NumPy array B using the np.array function with the following values: \n",
    " \n",
    " B = [1 2 3 4]\n"
   ]
  },
  {
   "cell_type": "code",
   "execution_count": null,
   "metadata": {
    "deletable": false,
    "nbgrader": {
     "cell_type": "code",
     "checksum": "de1a9bf91672923f6ee5951e2184a305",
     "grade": true,
     "grade_id": "cell-2d7e893946f2c8d4",
     "locked": false,
     "points": 2,
     "schema_version": 3,
     "solution": true,
     "task": false
    }
   },
   "outputs": [],
   "source": [
    "# YOUR CODE HERE\n",
    "raise NotImplementedError()"
   ]
  },
  {
   "cell_type": "markdown",
   "metadata": {
    "deletable": false,
    "editable": false,
    "nbgrader": {
     "cell_type": "markdown",
     "checksum": "df7fdfa6289fe6236a2c2f59969c424a",
     "grade": false,
     "grade_id": "cell-29f1b13b06d0a0d1",
     "locked": true,
     "schema_version": 3,
     "solution": false,
     "task": false
    }
   },
   "source": [
    "### Task 3: (5 points)\n",
    "\n",
    "Utilize broadcasting in NumPy to add the 1D array B to the 2D array A, resulting in a final 2D array C. The broadcasting should be designed to add B to each row of A element-wise. Hint: How can you make the array B compatible for the broadcasting operation?"
   ]
  },
  {
   "cell_type": "code",
   "execution_count": null,
   "metadata": {
    "deletable": false,
    "nbgrader": {
     "cell_type": "code",
     "checksum": "62e60e230f0326f1c22a235613938248",
     "grade": true,
     "grade_id": "cell-8771eff7ae34283e",
     "locked": false,
     "points": 5,
     "schema_version": 3,
     "solution": true,
     "task": false
    }
   },
   "outputs": [],
   "source": [
    "# YOUR CODE HERE\n",
    "raise NotImplementedError()"
   ]
  },
  {
   "cell_type": "markdown",
   "metadata": {
    "deletable": false,
    "editable": false,
    "nbgrader": {
     "cell_type": "markdown",
     "checksum": "5b37908a987ed85961257aa41324299e",
     "grade": false,
     "grade_id": "cell-70d6ff64d879fa7c",
     "locked": true,
     "schema_version": 3,
     "solution": false,
     "task": false
    }
   },
   "source": [
    "### Task 4: (10 points)\n",
    "\n",
    "After the broadcasting operation, perform the following transformations on the final array C and print the values:\n",
    "\n",
    "a. Calculate and print the sum of all elements in C."
   ]
  },
  {
   "cell_type": "code",
   "execution_count": null,
   "metadata": {
    "deletable": false,
    "nbgrader": {
     "cell_type": "code",
     "checksum": "e2c5f94ce51d800ccff51cc05a5cbe5c",
     "grade": true,
     "grade_id": "cell-71846195bd14c641",
     "locked": false,
     "points": 3,
     "schema_version": 3,
     "solution": true,
     "task": false
    }
   },
   "outputs": [],
   "source": [
    "# YOUR CODE HERE\n",
    "raise NotImplementedError()"
   ]
  },
  {
   "cell_type": "markdown",
   "metadata": {
    "deletable": false,
    "editable": false,
    "nbgrader": {
     "cell_type": "markdown",
     "checksum": "e190db4903cd956697e85c2e203a2c26",
     "grade": false,
     "grade_id": "cell-bcf9db74cd19d751",
     "locked": true,
     "schema_version": 3,
     "solution": false,
     "task": false
    }
   },
   "source": [
    "b. Calculate and print the mean of each column in C."
   ]
  },
  {
   "cell_type": "code",
   "execution_count": null,
   "metadata": {
    "deletable": false,
    "nbgrader": {
     "cell_type": "code",
     "checksum": "a56c7a8a4996f1d0e4e2f85eb5c5b32f",
     "grade": true,
     "grade_id": "cell-bca9b7e9041041f8",
     "locked": false,
     "points": 4,
     "schema_version": 3,
     "solution": true,
     "task": false
    }
   },
   "outputs": [],
   "source": [
    "# YOUR CODE HERE\n",
    "raise NotImplementedError()"
   ]
  },
  {
   "cell_type": "markdown",
   "metadata": {
    "deletable": false,
    "editable": false,
    "nbgrader": {
     "cell_type": "markdown",
     "checksum": "b6b3d94647e4f9f32997c3e1b9936095",
     "grade": false,
     "grade_id": "cell-a53fad93d9b2f0bc",
     "locked": true,
     "schema_version": 3,
     "solution": false,
     "task": false
    }
   },
   "source": [
    "c. Find the maximum value in each row of C and print them."
   ]
  },
  {
   "cell_type": "code",
   "execution_count": null,
   "metadata": {
    "deletable": false,
    "nbgrader": {
     "cell_type": "code",
     "checksum": "8b231d68f3b7cda51aba2fcba1939076",
     "grade": true,
     "grade_id": "cell-7dbb66838135210a",
     "locked": false,
     "points": 3,
     "schema_version": 3,
     "solution": true,
     "task": false
    }
   },
   "outputs": [],
   "source": [
    "# YOUR CODE HERE\n",
    "raise NotImplementedError()"
   ]
  },
  {
   "cell_type": "markdown",
   "metadata": {
    "deletable": false,
    "editable": false,
    "nbgrader": {
     "cell_type": "markdown",
     "checksum": "997689e38b1c863da5b447d660040d9a",
     "grade": false,
     "grade_id": "cell-9f4dc1893d18b975",
     "locked": true,
     "schema_version": 3,
     "solution": false,
     "task": false
    }
   },
   "source": [
    "## Exercise 2: Trapezoidal Integration (20 Points)\n",
    " "
   ]
  },
  {
   "cell_type": "markdown",
   "metadata": {
    "deletable": false,
    "editable": false,
    "nbgrader": {
     "cell_type": "markdown",
     "checksum": "511722cfb5a693c9066ba315609d9611",
     "grade": false,
     "grade_id": "cell-5b8794b540d83f58",
     "locked": true,
     "schema_version": 3,
     "solution": false,
     "task": false
    }
   },
   "source": [
    "In this exercise, you are tasked with implementing the simple trapezoidal rule formula for numerical integration. The goal is to compute the definite integral: $$ \\int_a^b f(x) \\, dx $$\n",
    " \n",
    " We can partition the integration interval \\([a, b]\\) into smaller subintervals. We then approximate the area under the curve for each subinterval by calculating the area of the trapezoid formed by linearly interpolating between the two function values at each end of the subinterval.\n",
    " \n",
    " For a pre-computed \\( y \\) array (where \\( y = f(x) \\) at discrete samples), the trapezoidal rule equation is given by:\n",
    " \n",
    " $$ \\int_a^b f(x) \\, dx \\approx \\frac{1}{2} \\sum_{i=1}^{n} (x_i - x_{i-1})(y_i + y_{i-1}) $$"
   ]
  },
  {
   "cell_type": "markdown",
   "metadata": {
    "deletable": false,
    "editable": false,
    "nbgrader": {
     "cell_type": "markdown",
     "checksum": "6c02e739b49ec17f2365f3900f690544",
     "grade": false,
     "grade_id": "cell-7e65667400e0a6b1",
     "locked": true,
     "schema_version": 3,
     "solution": false,
     "task": false
    }
   },
   "source": [
    " ### Task 1: (5 points)\n",
    " \n",
    " Create two arrays 𝑥 and 𝑦, where 𝑥 is a linearly spaced array in the interval [0, 3] of length 11 ,\n",
    " and 𝑦 represents the function 𝑓(𝑥) = 𝑥^2\n",
    " sampled at 𝑥."
   ]
  },
  {
   "cell_type": "code",
   "execution_count": null,
   "metadata": {
    "deletable": false,
    "nbgrader": {
     "cell_type": "code",
     "checksum": "02d07451dbe17bf116d5b5647b5b7e9a",
     "grade": true,
     "grade_id": "cell-8c63277e0bf9eab0",
     "locked": false,
     "points": 5,
     "schema_version": 3,
     "solution": true,
     "task": false
    }
   },
   "outputs": [],
   "source": [
    "# YOUR CODE HERE\n",
    "raise NotImplementedError()"
   ]
  },
  {
   "cell_type": "markdown",
   "metadata": {
    "deletable": false,
    "editable": false,
    "nbgrader": {
     "cell_type": "markdown",
     "checksum": "edfa885b0a33db1eabd155cbdc8cd880",
     "grade": false,
     "grade_id": "cell-74f79a32d0adb3cc",
     "locked": true,
     "schema_version": 3,
     "solution": false,
     "task": false
    }
   },
   "source": [
    " ### Task 2: (5 points)\n",
    " \n",
    " Use indexing (not a for loop) to find the 10 values representing \\( y_i + y_{i-1} \\) for i between 1 and 11.\n",
    " \n",
    " ### Hint:\n",
    " - What indexing would be needed to get all but the last element of the 1D array \\( y \\)?\n",
    " - Similarly, what indexing would be needed to get all but the first element of the 1D array \\( y \\)?\n",
    " "
   ]
  },
  {
   "cell_type": "code",
   "execution_count": null,
   "metadata": {
    "deletable": false,
    "nbgrader": {
     "cell_type": "code",
     "checksum": "ec94eafeb8ca8d7b6116169a8d6d4114",
     "grade": true,
     "grade_id": "cell-273f2f6af2a181da",
     "locked": false,
     "points": 5,
     "schema_version": 3,
     "solution": true,
     "task": false
    }
   },
   "outputs": [],
   "source": [
    "# YOUR CODE HERE\n",
    "raise NotImplementedError()"
   ]
  },
  {
   "cell_type": "markdown",
   "metadata": {
    "deletable": false,
    "editable": false,
    "nbgrader": {
     "cell_type": "markdown",
     "checksum": "0559e4007aff3d9f48c58bc99ebc1098",
     "grade": false,
     "grade_id": "cell-57f5ab77c0885bf9",
     "locked": true,
     "schema_version": 3,
     "solution": false,
     "task": false
    }
   },
   "source": [
    "### Task 3: (5 points)\n",
    "\n",
    "Write a function trapz(𝑥, 𝑦), that applies the trapezoid formula to pre-computed values, where 𝑥 and 𝑦 are 1 − 𝑑 arrays. The function should not use a for loop."
   ]
  },
  {
   "cell_type": "code",
   "execution_count": null,
   "metadata": {
    "deletable": false,
    "nbgrader": {
     "cell_type": "code",
     "checksum": "f911e4457dd2fba85e1eff09af4a3fd5",
     "grade": true,
     "grade_id": "cell-5796caeb5dbf4af4",
     "locked": false,
     "points": 5,
     "schema_version": 3,
     "solution": true,
     "task": false
    }
   },
   "outputs": [],
   "source": [
    "# YOUR CODE HERE\n",
    "raise NotImplementedError()"
   ]
  },
  {
   "cell_type": "markdown",
   "metadata": {
    "deletable": false,
    "editable": false,
    "nbgrader": {
     "cell_type": "markdown",
     "checksum": "840c413308e7a306b372d61fddd18b29",
     "grade": false,
     "grade_id": "cell-c768ac8a749fc687",
     "locked": true,
     "schema_version": 3,
     "solution": false,
     "task": false
    }
   },
   "source": [
    "### Task 4: (3 points)\n",
    "\n",
    "Verify that your function is correct by using the arrays created in Task 1 as input to the `trapz` function. Your answer should be a close approximation of:\n",
    "\n",
    "$$ \\int_0^3 x^2 \\, dx $$ \n",
    "which equals 9.\n"
   ]
  },
  {
   "cell_type": "code",
   "execution_count": null,
   "metadata": {
    "deletable": false,
    "nbgrader": {
     "cell_type": "code",
     "checksum": "54d4cb097b7fec0446f0ca263ef8b7ee",
     "grade": true,
     "grade_id": "cell-f30ec69caff3ca4e",
     "locked": false,
     "points": 3,
     "schema_version": 3,
     "solution": true,
     "task": false
    }
   },
   "outputs": [],
   "source": [
    "# YOUR CODE HERE\n",
    "raise NotImplementedError()"
   ]
  },
  {
   "cell_type": "markdown",
   "metadata": {
    "deletable": false,
    "editable": false,
    "nbgrader": {
     "cell_type": "markdown",
     "checksum": "41feb603f2c97de69eebbc7b482ee049",
     "grade": false,
     "grade_id": "cell-8e4be1805b774fe9",
     "locked": true,
     "schema_version": 3,
     "solution": false,
     "task": false
    }
   },
   "source": [
    "### Task 5: (2 points)\n",
    "\n",
    "Numpy and Scipy provide many common integration schemes. Check the documentation for NumPy’s own version of the trapezoidal integration scheme (https://numpy.org/doc/1.25/reference/generated/numpy.trapz.html) and check its result with your own."
   ]
  },
  {
   "cell_type": "code",
   "execution_count": null,
   "metadata": {
    "deletable": false,
    "nbgrader": {
     "cell_type": "code",
     "checksum": "662509242cd726338b00a4cfa63cfd48",
     "grade": true,
     "grade_id": "cell-eca6ac7373b8ef34",
     "locked": false,
     "points": 2,
     "schema_version": 3,
     "solution": true,
     "task": false
    }
   },
   "outputs": [],
   "source": [
    "# YOUR CODE HERE\n",
    "raise NotImplementedError()"
   ]
  },
  {
   "cell_type": "markdown",
   "metadata": {
    "deletable": false,
    "editable": false,
    "nbgrader": {
     "cell_type": "markdown",
     "checksum": "c18892b0eca23c2f7aa8a6b9204ad1f7",
     "grade": false,
     "grade_id": "cell-c8e2a4abe0abed04",
     "locked": true,
     "schema_version": 3,
     "solution": false,
     "task": false
    }
   },
   "source": [
    "## Exercise 3: Airbnb Data Analysis (35 Points)"
   ]
  },
  {
   "cell_type": "markdown",
   "metadata": {
    "deletable": false,
    "editable": false,
    "nbgrader": {
     "cell_type": "markdown",
     "checksum": "f8b37901f8cfc1b412553c6a377a041c",
     "grade": false,
     "grade_id": "cell-8bf08548e130f2bf",
     "locked": true,
     "schema_version": 3,
     "solution": false,
     "task": false
    }
   },
   "source": [
    "Note: Ensure you print results wherever required (for grading purposes) but limit the\n",
    "output to the top 5 records for larger data. This helps manage results for grading.\n",
    "\n",
    "### Task 1: Loading and Exploring the Dataset (5 Points)\n",
    "\n",
    "The dataset required for this exercise is already included with your assignment files.\n",
    "\n",
    "The CSV file is located at: \"source/Assignment_2/Airbnb_listings.csv\"\n",
    "\n",
    "Do the following:"
   ]
  },
  {
   "cell_type": "markdown",
   "metadata": {
    "deletable": false,
    "editable": false,
    "nbgrader": {
     "cell_type": "markdown",
     "checksum": "4198ecd31f3472d2afbbe4e356f84ee5",
     "grade": false,
     "grade_id": "cell-4071a87e3d0085cb",
     "locked": true,
     "schema_version": 3,
     "solution": false,
     "task": false
    }
   },
   "source": [
    "1. Load the dataset from the Airbnb_listings.csv file and Print the top 5 records."
   ]
  },
  {
   "cell_type": "code",
   "execution_count": null,
   "metadata": {
    "deletable": false,
    "nbgrader": {
     "cell_type": "code",
     "checksum": "35c4c83a36ecb3dfd50b0535574e3f9b",
     "grade": true,
     "grade_id": "cell-192f4b4497cd0990",
     "locked": false,
     "points": 1,
     "schema_version": 3,
     "solution": true,
     "task": false
    }
   },
   "outputs": [],
   "source": [
    "# YOUR CODE HERE\n",
    "raise NotImplementedError()"
   ]
  },
  {
   "cell_type": "markdown",
   "metadata": {
    "deletable": false,
    "editable": false,
    "nbgrader": {
     "cell_type": "markdown",
     "checksum": "057c4af5e8993b872ad13e88f801f4fb",
     "grade": false,
     "grade_id": "cell-d5e1a904ba26e9d0",
     "locked": true,
     "schema_version": 3,
     "solution": false,
     "task": false
    }
   },
   "source": [
    "2. Print the total number of missing (null) values in the cancellation_policy column."
   ]
  },
  {
   "cell_type": "code",
   "execution_count": null,
   "metadata": {
    "deletable": false,
    "nbgrader": {
     "cell_type": "code",
     "checksum": "c716a1d25a002825ea9bea2746ba108f",
     "grade": true,
     "grade_id": "cell-6912d3708b5c6563",
     "locked": false,
     "points": 1,
     "schema_version": 3,
     "solution": true,
     "task": false
    }
   },
   "outputs": [],
   "source": [
    "# YOUR CODE HERE\n",
    "raise NotImplementedError()"
   ]
  },
  {
   "cell_type": "markdown",
   "metadata": {
    "deletable": false,
    "editable": false,
    "nbgrader": {
     "cell_type": "markdown",
     "checksum": "765433378adc27aba8bf1bf2541f4db3",
     "grade": false,
     "grade_id": "cell-d5de37aa40347eb3",
     "locked": true,
     "schema_version": 3,
     "solution": false,
     "task": false
    }
   },
   "source": [
    "3. Print the number of unique categories in the room type column."
   ]
  },
  {
   "cell_type": "code",
   "execution_count": null,
   "metadata": {
    "deletable": false,
    "nbgrader": {
     "cell_type": "code",
     "checksum": "c8f1b19b5b952570d3956d4ad69b95be",
     "grade": true,
     "grade_id": "cell-247cca03433490f5",
     "locked": false,
     "points": 1,
     "schema_version": 3,
     "solution": true,
     "task": false
    }
   },
   "outputs": [],
   "source": [
    "# YOUR CODE HERE\n",
    "raise NotImplementedError()"
   ]
  },
  {
   "cell_type": "markdown",
   "metadata": {
    "deletable": false,
    "editable": false,
    "nbgrader": {
     "cell_type": "markdown",
     "checksum": "56a4e556ed280816881e669bc2d2d896",
     "grade": false,
     "grade_id": "cell-1a10df3fccc52e36",
     "locked": true,
     "schema_version": 3,
     "solution": false,
     "task": false
    }
   },
   "source": [
    "4. List the top 5 most frequent host names and display their frequencies."
   ]
  },
  {
   "cell_type": "code",
   "execution_count": null,
   "metadata": {
    "deletable": false,
    "nbgrader": {
     "cell_type": "code",
     "checksum": "47204f4fcf89024facb7577a83ce1508",
     "grade": true,
     "grade_id": "cell-420896a0d5854caf",
     "locked": false,
     "points": 1,
     "schema_version": 3,
     "solution": true,
     "task": false
    }
   },
   "outputs": [],
   "source": [
    "# YOUR CODE HERE\n",
    "raise NotImplementedError()"
   ]
  },
  {
   "cell_type": "markdown",
   "metadata": {
    "deletable": false,
    "editable": false,
    "nbgrader": {
     "cell_type": "markdown",
     "checksum": "16658c3fca10c88926e63e36eb9567a1",
     "grade": false,
     "grade_id": "cell-62caa0f0c715e3e1",
     "locked": true,
     "schema_version": 3,
     "solution": false,
     "task": false
    }
   },
   "source": [
    "5. Print the number of rows and columns in the dataset."
   ]
  },
  {
   "cell_type": "code",
   "execution_count": null,
   "metadata": {
    "deletable": false,
    "nbgrader": {
     "cell_type": "code",
     "checksum": "5c31015fa108fd6e0ef7ffee673188cc",
     "grade": true,
     "grade_id": "cell-264a0633dd80ddce",
     "locked": false,
     "points": 1,
     "schema_version": 3,
     "solution": true,
     "task": false
    }
   },
   "outputs": [],
   "source": [
    "# YOUR CODE HERE\n",
    "raise NotImplementedError()"
   ]
  },
  {
   "cell_type": "markdown",
   "metadata": {
    "deletable": false,
    "editable": false,
    "nbgrader": {
     "cell_type": "markdown",
     "checksum": "88ce55faba9cf6ca0cd1296e257c56ef",
     "grade": false,
     "grade_id": "cell-fac49d31f9f8b0e9",
     "locked": true,
     "schema_version": 3,
     "solution": false,
     "task": false
    }
   },
   "source": [
    "### Task 2: Data Preprocessing and Cleaning (5 Points)\n",
    "\n",
    "Write a function preprocess_airbnb_data():\n",
    "1. Convert the price column to numeric. Hint: You need to clean first\n",
    "2. Fills missing values in the price column with the median price. Also, print the median price.\n",
    "3. Removes special characters (anything except alphanumeric) from the host_name column using regular expressions.\n",
    "4. Filters listings where availability_365 is greater than 0 (to exclude unavailable listings).\n",
    "\n",
    "Lastly, call the preprocess_airbnb_data() function on the DataFrame you created in Task 1."
   ]
  },
  {
   "cell_type": "code",
   "execution_count": null,
   "metadata": {
    "deletable": false,
    "nbgrader": {
     "cell_type": "code",
     "checksum": "582a4e206d878af32e1b13ca8e1f1032",
     "grade": true,
     "grade_id": "cell-4b174422366a32fe",
     "locked": false,
     "points": 5,
     "schema_version": 3,
     "solution": true,
     "task": false
    }
   },
   "outputs": [],
   "source": [
    "# YOUR CODE HERE\n",
    "raise NotImplementedError()"
   ]
  },
  {
   "cell_type": "markdown",
   "metadata": {
    "deletable": false,
    "editable": false,
    "nbgrader": {
     "cell_type": "markdown",
     "checksum": "d94feada2bdda2abbbb7f5ac9adf1302",
     "grade": false,
     "grade_id": "cell-13a4a10a2c6e7138",
     "locked": true,
     "schema_version": 3,
     "solution": false,
     "task": false
    }
   },
   "source": [
    "### Task 3: Neighborhood Analysis\n",
    "\n",
    "#### Task 3.1 Neighbourhood_analysis (5 Points)\n",
    "Write a function neighbourhood_analysis() that:\n",
    "1. Find the neighborhood with the highest number of listings and print it.\n",
    "2. Calculates the average price per neighborhood and then print the top 3 most expensive neighborhoods.\n",
    "\n",
    "Call the function on the preprocessed dataframe and display the results."
   ]
  },
  {
   "cell_type": "code",
   "execution_count": null,
   "metadata": {
    "deletable": false,
    "nbgrader": {
     "cell_type": "code",
     "checksum": "2a23ad4c34cbff45d6abc32034acfd72",
     "grade": true,
     "grade_id": "cell-3de6c39e9c1c025f",
     "locked": false,
     "points": 5,
     "schema_version": 3,
     "solution": true,
     "task": false
    }
   },
   "outputs": [],
   "source": [
    "# YOUR CODE HERE\n",
    "raise NotImplementedError()"
   ]
  },
  {
   "cell_type": "markdown",
   "metadata": {
    "deletable": false,
    "editable": false,
    "nbgrader": {
     "cell_type": "markdown",
     "checksum": "45f5266950757943986c8e70473abe10",
     "grade": false,
     "grade_id": "cell-33d31896cb074388",
     "locked": true,
     "schema_version": 3,
     "solution": false,
     "task": false
    }
   },
   "source": [
    "#### Task 3.2: Multi-Variable Price Impact Analysis (5 Points)\n",
    "Write a function multi_variable_price_analysis() that:\n",
    "1. Calculates the average price for each combination of room_type, and neighbourhood.\n",
    "2. Sorts the combinations from highest to lowest average price.\n",
    "3. Prints the top 5 most expensive combinations.\n",
    "\n",
    "Call the function on the preprocessed dataset."
   ]
  },
  {
   "cell_type": "code",
   "execution_count": null,
   "metadata": {
    "deletable": false,
    "nbgrader": {
     "cell_type": "code",
     "checksum": "b39d15067ef3524180f596a8ebc79d6f",
     "grade": true,
     "grade_id": "cell-cc7ebf8ce30e4283",
     "locked": false,
     "points": 5,
     "schema_version": 3,
     "solution": true,
     "task": false
    }
   },
   "outputs": [],
   "source": [
    "# YOUR CODE HERE\n",
    "raise NotImplementedError()"
   ]
  },
  {
   "cell_type": "markdown",
   "metadata": {
    "deletable": false,
    "editable": false,
    "nbgrader": {
     "cell_type": "markdown",
     "checksum": "0c22d9212f476cbe24e3f766217adba4",
     "grade": false,
     "grade_id": "cell-052fa08c76aa1a38",
     "locked": true,
     "schema_version": 3,
     "solution": false,
     "task": false
    }
   },
   "source": [
    "#### Task 3.3: Host Analysis (5 Points)\n",
    "\n",
    "Write a function host_analysis() that performs the following tasks:\n",
    "\n",
    "1. Find and print the host who has the most listings.\n",
    "2. Calculate the average rating for the top 5 hosts with the highest number of listings. (Use 'review rate number' column)\n",
    "3. Identify how many hosts have listings where reviews_per_month > 2, indicating frequent activity.\n",
    "\n",
    "Lastly, call the function on the preprocessed dataset and display the results.\n"
   ]
  },
  {
   "cell_type": "code",
   "execution_count": null,
   "metadata": {
    "deletable": false,
    "nbgrader": {
     "cell_type": "code",
     "checksum": "708bfe4d74866f6b8b93b0346fb6e573",
     "grade": true,
     "grade_id": "cell-c619ef67137ea8cc",
     "locked": false,
     "points": 5,
     "schema_version": 3,
     "solution": true,
     "task": false
    }
   },
   "outputs": [],
   "source": [
    "# YOUR CODE HERE\n",
    "raise NotImplementedError()"
   ]
  },
  {
   "cell_type": "markdown",
   "metadata": {
    "deletable": false,
    "editable": false,
    "nbgrader": {
     "cell_type": "markdown",
     "checksum": "1d6e7bcb6f82285cb03275cd414258df",
     "grade": false,
     "grade_id": "cell-54ed590c87e2536f",
     "locked": true,
     "schema_version": 3,
     "solution": false,
     "task": false
    }
   },
   "source": [
    "#### Task 3.4: House Rules Cumulative Strictness Analysis (Text Processing) (10 Points)\n",
    "\n",
    "Write a function house_rules_analysis() that:\n",
    "\n",
    "1. Uses regular expressions to identify strict and lenient words in the house_rules column.\n",
    "    Strict words include: \"no\", \"not allowed\", \"strict\", \"prohibited\", \"forbidden\".\n",
    "    Lenient words include: \"welcome\", \"allowed\", \"permitted\", \"flexible\".\n",
    "2. Creates a new column rules_strictness_score:\n",
    "    For every occurrence of a strict word, add +1 to the score.\n",
    "    For every occurrence of a lenient word, subtract -1 from the score.\n",
    "\n",
    "Use the function to count and print the number of listings with net positive, negative, and neutral strictness scores. Make sure you make the text case insensitive.\n"
   ]
  },
  {
   "cell_type": "code",
   "execution_count": null,
   "metadata": {
    "deletable": false,
    "nbgrader": {
     "cell_type": "code",
     "checksum": "e6ad054fcd2a3f49f6c444e203fcaa7d",
     "grade": true,
     "grade_id": "cell-97a081fffd07955e",
     "locked": false,
     "points": 10,
     "schema_version": 3,
     "solution": true,
     "task": false
    }
   },
   "outputs": [],
   "source": [
    "# YOUR CODE HERE\n",
    "raise NotImplementedError()"
   ]
  },
  {
   "cell_type": "markdown",
   "metadata": {
    "deletable": false,
    "editable": false,
    "nbgrader": {
     "cell_type": "markdown",
     "checksum": "a6a8bcafe405fd03bcdd8ff73897f494",
     "grade": false,
     "grade_id": "cell-e1a4b72ca1127151",
     "locked": true,
     "schema_version": 3,
     "solution": false,
     "task": false
    }
   },
   "source": [
    "## Exercise 4: Visualizations (15 Points)"
   ]
  },
  {
   "cell_type": "markdown",
   "metadata": {
    "deletable": false,
    "editable": false,
    "nbgrader": {
     "cell_type": "markdown",
     "checksum": "d2329e20a9b07bb5a76af04ecc957760",
     "grade": false,
     "grade_id": "cell-9bdba22a67c1df9a",
     "locked": true,
     "schema_version": 3,
     "solution": false,
     "task": false
    }
   },
   "source": [
    "### Task 4.1: Price per Room Type (5 Points)\n",
    "\n",
    "Write a function plot_price_per_room_type() that plots the average price per room type using a bar chart."
   ]
  },
  {
   "cell_type": "code",
   "execution_count": null,
   "metadata": {
    "deletable": false,
    "nbgrader": {
     "cell_type": "code",
     "checksum": "e8d358fe24cdbe64b411b0c108bd11c7",
     "grade": true,
     "grade_id": "cell-8836023c1bb87820",
     "locked": false,
     "points": 5,
     "schema_version": 3,
     "solution": true,
     "task": false
    }
   },
   "outputs": [],
   "source": [
    "# YOUR CODE HERE\n",
    "raise NotImplementedError()"
   ]
  },
  {
   "cell_type": "markdown",
   "metadata": {
    "deletable": false,
    "editable": false,
    "nbgrader": {
     "cell_type": "markdown",
     "checksum": "5b9dfdf45367c1ee25ea9eb34e9bcedf",
     "grade": false,
     "grade_id": "cell-f33f56b068f53d62",
     "locked": true,
     "schema_version": 3,
     "solution": false,
     "task": false
    }
   },
   "source": [
    "### Task 4.2: Review Distribution (5 Points)\n",
    "\n",
    "Write a function plot_reviews_distribution() that plots a histogram of the number_of_reviews column, showing the distribution of reviews per listing. (Limit number_of_reviews values to 400)"
   ]
  },
  {
   "cell_type": "code",
   "execution_count": null,
   "metadata": {
    "deletable": false,
    "nbgrader": {
     "cell_type": "code",
     "checksum": "02d6c6f25e929e7a9bda49bdd399155f",
     "grade": true,
     "grade_id": "cell-cbbc6e088c134206",
     "locked": false,
     "points": 5,
     "schema_version": 3,
     "solution": true,
     "task": false
    }
   },
   "outputs": [],
   "source": [
    "# YOUR CODE HERE\n",
    "raise NotImplementedError()"
   ]
  },
  {
   "cell_type": "markdown",
   "metadata": {
    "deletable": false,
    "editable": false,
    "nbgrader": {
     "cell_type": "markdown",
     "checksum": "e2aaf8dd4732242c434ef8ed963f46a2",
     "grade": false,
     "grade_id": "cell-12411763bf9d021d",
     "locked": true,
     "schema_version": 3,
     "solution": false,
     "task": false
    }
   },
   "source": [
    "### Task 4.3: Average Price per Room Type by Neighborhood (5 Points)\n",
    "\n",
    "Write a function average_price_by_room_and_neighborhood() that:\n",
    "\n",
    "1. Groups listings by room type and neighbourhood group, calculating the average price for each combination.\n",
    "2. Plots a bar chart showing the average price for each room type across different neighborhoods.\n",
    "\n",
    "This analysis helps in understanding how room types are priced differently across neighborhoods."
   ]
  },
  {
   "cell_type": "code",
   "execution_count": null,
   "metadata": {
    "deletable": false,
    "nbgrader": {
     "cell_type": "code",
     "checksum": "bfd755330c9b547b274ec79f256ff580",
     "grade": true,
     "grade_id": "cell-f37d942dd6c6aef6",
     "locked": false,
     "points": 5,
     "schema_version": 3,
     "solution": true,
     "task": false
    }
   },
   "outputs": [],
   "source": [
    "# YOUR CODE HERE\n",
    "raise NotImplementedError()"
   ]
  },
  {
   "cell_type": "markdown",
   "metadata": {
    "deletable": false,
    "editable": false,
    "nbgrader": {
     "cell_type": "markdown",
     "checksum": "7dc7a0ba4f51566d878e565488b5f885",
     "grade": false,
     "grade_id": "cell-69918788519b38f1",
     "locked": true,
     "schema_version": 3,
     "solution": false,
     "task": false
    }
   },
   "source": [
    "## Exercise 5:  Functional Programming with map and filter (10 Points)"
   ]
  },
  {
   "cell_type": "markdown",
   "metadata": {
    "deletable": false,
    "editable": false,
    "nbgrader": {
     "cell_type": "markdown",
     "checksum": "68722297bbc191bde98dff630a7477e0",
     "grade": false,
     "grade_id": "cell-8ffe1bbe3b0eb16a",
     "locked": true,
     "schema_version": 3,
     "solution": false,
     "task": false
    }
   },
   "source": [
    "Write a function process_numbers() that:\n",
    "\n",
    "1. Takes a list of integers.\n",
    "2. Uses the map function to square each integer.\n",
    "3. Uses the filter function to keep only the squared numbers where the sum of digits is greater than 10.\n",
    "4. Return the final filtered list.\n",
    "\n",
    "Additional Requirement:\n",
    "Define a separate helper function sum_of_digits() to calculate the sum of the digits."
   ]
  },
  {
   "cell_type": "code",
   "execution_count": null,
   "metadata": {
    "deletable": false,
    "nbgrader": {
     "cell_type": "code",
     "checksum": "35965aa86c6fb0cd5dae7ee85afd22f7",
     "grade": true,
     "grade_id": "cell-aef412529ef3f849",
     "locked": false,
     "points": 10,
     "schema_version": 3,
     "solution": true,
     "task": false
    }
   },
   "outputs": [],
   "source": [
    "# YOUR CODE HERE\n",
    "raise NotImplementedError()"
   ]
  },
  {
   "cell_type": "markdown",
   "metadata": {
    "deletable": false,
    "editable": false,
    "nbgrader": {
     "cell_type": "markdown",
     "checksum": "8f59c0b43e41a2b866074f3e2b4aa50d",
     "grade": false,
     "grade_id": "cell-c65e1a71d725dca3",
     "locked": true,
     "schema_version": 3,
     "solution": false,
     "task": false
    }
   },
   "source": [
    "### Run this block of code - Don't Edit "
   ]
  },
  {
   "cell_type": "code",
   "execution_count": null,
   "metadata": {
    "deletable": false,
    "editable": false,
    "nbgrader": {
     "cell_type": "code",
     "checksum": "9d3f222dcf7a521cd088f5c7fb142526",
     "grade": false,
     "grade_id": "cell-5465f37b69789957",
     "locked": true,
     "schema_version": 3,
     "solution": false,
     "task": false
    }
   },
   "outputs": [],
   "source": [
    "numbers = [1, 5, 11, 2, 7, 23]\n",
    "filtered_result = process_numbers(numbers)\n",
    "print(filtered_result)"
   ]
  }
 ],
 "metadata": {
  "kernelspec": {
   "display_name": "Python 3 (ipykernel)",
   "language": "python",
   "name": "python3"
  },
  "language_info": {
   "codemirror_mode": {
    "name": "ipython",
    "version": 3
   },
   "file_extension": ".py",
   "mimetype": "text/x-python",
   "name": "python",
   "nbconvert_exporter": "python",
   "pygments_lexer": "ipython3",
   "version": "3.11.9"
  }
 },
 "nbformat": 4,
 "nbformat_minor": 4
}
